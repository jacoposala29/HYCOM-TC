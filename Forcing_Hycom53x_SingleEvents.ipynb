{
 "cells": [
  {
   "cell_type": "markdown",
   "id": "06bb1a08",
   "metadata": {},
   "source": [
    "# Forcing "
   ]
  },
  {
   "cell_type": "code",
   "execution_count": 43,
   "id": "ea51221f",
   "metadata": {},
   "outputs": [],
   "source": [
    "import xarray as xr\n",
    "import csv\n",
    "import pandas as pd\n",
    "import pickle\n",
    "import numpy as np\n",
    "import os\n",
    "import datetime \n",
    "import sys\n",
    "import matplotlib.pyplot as plt\n",
    "import netCDF4 as nc\n",
    "import os.path\n",
    "import webbrowser\n",
    "import time\n",
    "from scipy.io import netcdf\n",
    "import netCDF4\n",
    "from datetime import date, timedelta, datetime\n",
    "import globe\n"
   ]
  },
  {
   "cell_type": "code",
   "execution_count": 200,
   "id": "5ac9e206",
   "metadata": {},
   "outputs": [],
   "source": [
    "## Read in the data\n",
    "filename_precip='/Users/jacoposala/Downloads/cfsv2-sea_2015_01hr_precip.nc' # precipitation rate\n",
    "filename_windspd='/Users/jacoposala/Downloads/cfsv2-sec2_2015_01hr_wndspd.nc'\n",
    "\n",
    "ds_precip=xr.open_dataset(filename_precip,decode_times=False)\n",
    "ds_windspd=xr.open_dataset(filename_windspd,decode_times=False)\n",
    "\n",
    "varname_1 = 'wndspd' # wind\n",
    "varname_1_value = 32.9244 # wind speed threshold [m/s], corresponds to 64 knots\n",
    "varname_2 = 'precip' # precipitation"
   ]
  },
  {
   "cell_type": "code",
   "execution_count": 204,
   "id": "d04358f9",
   "metadata": {},
   "outputs": [
    {
     "ename": "KeyboardInterrupt",
     "evalue": "",
     "output_type": "error",
     "traceback": [
      "\u001b[0;31m---------------------------------------------------------------------------\u001b[0m",
      "\u001b[0;31mKeyboardInterrupt\u001b[0m                         Traceback (most recent call last)",
      "\u001b[0;32m<ipython-input-204-3537749f2218>\u001b[0m in \u001b[0;36m<module>\u001b[0;34m\u001b[0m\n\u001b[1;32m     69\u001b[0m \u001b[0;34m\u001b[0m\u001b[0m\n\u001b[1;32m     70\u001b[0m                         \u001b[0;31m# Remove from list all the events within +- 5 days from stored event\u001b[0m\u001b[0;34m\u001b[0m\u001b[0;34m\u001b[0m\u001b[0;34m\u001b[0m\u001b[0m\n\u001b[0;32m---> 71\u001b[0;31m                         \u001b[0mtime_recorded\u001b[0m \u001b[0;34m=\u001b[0m \u001b[0mfloat\u001b[0m\u001b[0;34m(\u001b[0m\u001b[0md_1_list\u001b[0m\u001b[0;34m.\u001b[0m\u001b[0mMT\u001b[0m\u001b[0;34m[\u001b[0m\u001b[0mi_max_d1\u001b[0m\u001b[0;34m]\u001b[0m\u001b[0;34m.\u001b[0m\u001b[0mvalues\u001b[0m\u001b[0;34m)\u001b[0m \u001b[0;31m# in days since 1900\u001b[0m\u001b[0;34m\u001b[0m\u001b[0;34m\u001b[0m\u001b[0m\n\u001b[0m\u001b[1;32m     72\u001b[0m                         \u001b[0md_1_list_df\u001b[0m\u001b[0;34m.\u001b[0m\u001b[0mdrop\u001b[0m\u001b[0;34m(\u001b[0m\u001b[0md_1_list_df\u001b[0m\u001b[0;34m[\u001b[0m\u001b[0;34m(\u001b[0m\u001b[0md_1_list_df\u001b[0m\u001b[0;34m.\u001b[0m\u001b[0mMT\u001b[0m \u001b[0;34m>\u001b[0m \u001b[0mtime_recorded\u001b[0m \u001b[0;34m-\u001b[0m\u001b[0;36m5\u001b[0m\u001b[0;34m)\u001b[0m \u001b[0;34m&\u001b[0m \u001b[0;34m(\u001b[0m\u001b[0md_1_list_df\u001b[0m\u001b[0;34m.\u001b[0m\u001b[0mMT\u001b[0m \u001b[0;34m<\u001b[0m \u001b[0mtime_recorded\u001b[0m \u001b[0;34m+\u001b[0m \u001b[0;36m5\u001b[0m\u001b[0;34m)\u001b[0m\u001b[0;34m]\u001b[0m\u001b[0;34m.\u001b[0m\u001b[0mindex\u001b[0m\u001b[0;34m,\u001b[0m \u001b[0minplace\u001b[0m\u001b[0;34m=\u001b[0m\u001b[0;32mTrue\u001b[0m\u001b[0;34m)\u001b[0m\u001b[0;34m\u001b[0m\u001b[0;34m\u001b[0m\u001b[0m\n\u001b[1;32m     73\u001b[0m \u001b[0;34m\u001b[0m\u001b[0m\n",
      "\u001b[0;32m~/opt/anaconda3/lib/python3.8/site-packages/xarray/core/dataarray.py\u001b[0m in \u001b[0;36m__getitem__\u001b[0;34m(self, key)\u001b[0m\n\u001b[1;32m    738\u001b[0m         \u001b[0;32melse\u001b[0m\u001b[0;34m:\u001b[0m\u001b[0;34m\u001b[0m\u001b[0;34m\u001b[0m\u001b[0m\n\u001b[1;32m    739\u001b[0m             \u001b[0;31m# xarray-style array indexing\u001b[0m\u001b[0;34m\u001b[0m\u001b[0;34m\u001b[0m\u001b[0;34m\u001b[0m\u001b[0m\n\u001b[0;32m--> 740\u001b[0;31m             \u001b[0;32mreturn\u001b[0m \u001b[0mself\u001b[0m\u001b[0;34m.\u001b[0m\u001b[0misel\u001b[0m\u001b[0;34m(\u001b[0m\u001b[0mindexers\u001b[0m\u001b[0;34m=\u001b[0m\u001b[0mself\u001b[0m\u001b[0;34m.\u001b[0m\u001b[0m_item_key_to_dict\u001b[0m\u001b[0;34m(\u001b[0m\u001b[0mkey\u001b[0m\u001b[0;34m)\u001b[0m\u001b[0;34m)\u001b[0m\u001b[0;34m\u001b[0m\u001b[0;34m\u001b[0m\u001b[0m\n\u001b[0m\u001b[1;32m    741\u001b[0m \u001b[0;34m\u001b[0m\u001b[0m\n\u001b[1;32m    742\u001b[0m     \u001b[0;32mdef\u001b[0m \u001b[0m__setitem__\u001b[0m\u001b[0;34m(\u001b[0m\u001b[0mself\u001b[0m\u001b[0;34m,\u001b[0m \u001b[0mkey\u001b[0m\u001b[0;34m:\u001b[0m \u001b[0mAny\u001b[0m\u001b[0;34m,\u001b[0m \u001b[0mvalue\u001b[0m\u001b[0;34m:\u001b[0m \u001b[0mAny\u001b[0m\u001b[0;34m)\u001b[0m \u001b[0;34m->\u001b[0m \u001b[0;32mNone\u001b[0m\u001b[0;34m:\u001b[0m\u001b[0;34m\u001b[0m\u001b[0;34m\u001b[0m\u001b[0m\n",
      "\u001b[0;32m~/opt/anaconda3/lib/python3.8/site-packages/xarray/core/dataarray.py\u001b[0m in \u001b[0;36misel\u001b[0;34m(self, indexers, drop, missing_dims, **indexers_kwargs)\u001b[0m\n\u001b[1;32m   1210\u001b[0m             }\n\u001b[1;32m   1211\u001b[0m             \u001b[0;32mif\u001b[0m \u001b[0mcoord_indexers\u001b[0m\u001b[0;34m:\u001b[0m\u001b[0;34m\u001b[0m\u001b[0;34m\u001b[0m\u001b[0m\n\u001b[0;32m-> 1212\u001b[0;31m                 \u001b[0mcoord_value\u001b[0m \u001b[0;34m=\u001b[0m \u001b[0mcoord_value\u001b[0m\u001b[0;34m.\u001b[0m\u001b[0misel\u001b[0m\u001b[0;34m(\u001b[0m\u001b[0mcoord_indexers\u001b[0m\u001b[0;34m)\u001b[0m\u001b[0;34m\u001b[0m\u001b[0;34m\u001b[0m\u001b[0m\n\u001b[0m\u001b[1;32m   1213\u001b[0m                 \u001b[0;32mif\u001b[0m \u001b[0mdrop\u001b[0m \u001b[0;32mand\u001b[0m \u001b[0mcoord_value\u001b[0m\u001b[0;34m.\u001b[0m\u001b[0mndim\u001b[0m \u001b[0;34m==\u001b[0m \u001b[0;36m0\u001b[0m\u001b[0;34m:\u001b[0m\u001b[0;34m\u001b[0m\u001b[0;34m\u001b[0m\u001b[0m\n\u001b[1;32m   1214\u001b[0m                     \u001b[0;32mcontinue\u001b[0m\u001b[0;34m\u001b[0m\u001b[0;34m\u001b[0m\u001b[0m\n",
      "\u001b[0;32m~/opt/anaconda3/lib/python3.8/site-packages/xarray/core/variable.py\u001b[0m in \u001b[0;36misel\u001b[0;34m(self, indexers, missing_dims, **indexers_kwargs)\u001b[0m\n\u001b[1;32m   1182\u001b[0m \u001b[0;34m\u001b[0m\u001b[0m\n\u001b[1;32m   1183\u001b[0m         \u001b[0mkey\u001b[0m \u001b[0;34m=\u001b[0m \u001b[0mtuple\u001b[0m\u001b[0;34m(\u001b[0m\u001b[0mindexers\u001b[0m\u001b[0;34m.\u001b[0m\u001b[0mget\u001b[0m\u001b[0;34m(\u001b[0m\u001b[0mdim\u001b[0m\u001b[0;34m,\u001b[0m \u001b[0mslice\u001b[0m\u001b[0;34m(\u001b[0m\u001b[0;32mNone\u001b[0m\u001b[0;34m)\u001b[0m\u001b[0;34m)\u001b[0m \u001b[0;32mfor\u001b[0m \u001b[0mdim\u001b[0m \u001b[0;32min\u001b[0m \u001b[0mself\u001b[0m\u001b[0;34m.\u001b[0m\u001b[0mdims\u001b[0m\u001b[0;34m)\u001b[0m\u001b[0;34m\u001b[0m\u001b[0;34m\u001b[0m\u001b[0m\n\u001b[0;32m-> 1184\u001b[0;31m         \u001b[0;32mreturn\u001b[0m \u001b[0mself\u001b[0m\u001b[0;34m[\u001b[0m\u001b[0mkey\u001b[0m\u001b[0;34m]\u001b[0m\u001b[0;34m\u001b[0m\u001b[0;34m\u001b[0m\u001b[0m\n\u001b[0m\u001b[1;32m   1185\u001b[0m \u001b[0;34m\u001b[0m\u001b[0m\n\u001b[1;32m   1186\u001b[0m     \u001b[0;32mdef\u001b[0m \u001b[0msqueeze\u001b[0m\u001b[0;34m(\u001b[0m\u001b[0mself\u001b[0m\u001b[0;34m,\u001b[0m \u001b[0mdim\u001b[0m\u001b[0;34m=\u001b[0m\u001b[0;32mNone\u001b[0m\u001b[0;34m)\u001b[0m\u001b[0;34m:\u001b[0m\u001b[0;34m\u001b[0m\u001b[0;34m\u001b[0m\u001b[0m\n",
      "\u001b[0;32m~/opt/anaconda3/lib/python3.8/site-packages/xarray/core/variable.py\u001b[0m in \u001b[0;36m__getitem__\u001b[0;34m(self, key)\u001b[0m\n\u001b[1;32m    774\u001b[0m         \u001b[0marray\u001b[0m\u001b[0;31m \u001b[0m\u001b[0;31m`\u001b[0m\u001b[0mx\u001b[0m\u001b[0;34m.\u001b[0m\u001b[0mvalues\u001b[0m\u001b[0;31m`\u001b[0m \u001b[0mdirectly\u001b[0m\u001b[0;34m.\u001b[0m\u001b[0;34m\u001b[0m\u001b[0;34m\u001b[0m\u001b[0m\n\u001b[1;32m    775\u001b[0m         \"\"\"\n\u001b[0;32m--> 776\u001b[0;31m         \u001b[0mdims\u001b[0m\u001b[0;34m,\u001b[0m \u001b[0mindexer\u001b[0m\u001b[0;34m,\u001b[0m \u001b[0mnew_order\u001b[0m \u001b[0;34m=\u001b[0m \u001b[0mself\u001b[0m\u001b[0;34m.\u001b[0m\u001b[0m_broadcast_indexes\u001b[0m\u001b[0;34m(\u001b[0m\u001b[0mkey\u001b[0m\u001b[0;34m)\u001b[0m\u001b[0;34m\u001b[0m\u001b[0;34m\u001b[0m\u001b[0m\n\u001b[0m\u001b[1;32m    777\u001b[0m         \u001b[0mdata\u001b[0m \u001b[0;34m=\u001b[0m \u001b[0mas_indexable\u001b[0m\u001b[0;34m(\u001b[0m\u001b[0mself\u001b[0m\u001b[0;34m.\u001b[0m\u001b[0m_data\u001b[0m\u001b[0;34m)\u001b[0m\u001b[0;34m[\u001b[0m\u001b[0mindexer\u001b[0m\u001b[0;34m]\u001b[0m\u001b[0;34m\u001b[0m\u001b[0;34m\u001b[0m\u001b[0m\n\u001b[1;32m    778\u001b[0m         \u001b[0;32mif\u001b[0m \u001b[0mnew_order\u001b[0m\u001b[0;34m:\u001b[0m\u001b[0;34m\u001b[0m\u001b[0;34m\u001b[0m\u001b[0m\n",
      "\u001b[0;32m~/opt/anaconda3/lib/python3.8/site-packages/xarray/core/variable.py\u001b[0m in \u001b[0;36m_broadcast_indexes\u001b[0;34m(self, key)\u001b[0m\n\u001b[1;32m    615\u001b[0m \u001b[0;34m\u001b[0m\u001b[0m\n\u001b[1;32m    616\u001b[0m         \u001b[0;32mif\u001b[0m \u001b[0mall\u001b[0m\u001b[0;34m(\u001b[0m\u001b[0misinstance\u001b[0m\u001b[0;34m(\u001b[0m\u001b[0mk\u001b[0m\u001b[0;34m,\u001b[0m \u001b[0mBASIC_INDEXING_TYPES\u001b[0m\u001b[0;34m)\u001b[0m \u001b[0;32mfor\u001b[0m \u001b[0mk\u001b[0m \u001b[0;32min\u001b[0m \u001b[0mkey\u001b[0m\u001b[0;34m)\u001b[0m\u001b[0;34m:\u001b[0m\u001b[0;34m\u001b[0m\u001b[0;34m\u001b[0m\u001b[0m\n\u001b[0;32m--> 617\u001b[0;31m             \u001b[0;32mreturn\u001b[0m \u001b[0mself\u001b[0m\u001b[0;34m.\u001b[0m\u001b[0m_broadcast_indexes_basic\u001b[0m\u001b[0;34m(\u001b[0m\u001b[0mkey\u001b[0m\u001b[0;34m)\u001b[0m\u001b[0;34m\u001b[0m\u001b[0;34m\u001b[0m\u001b[0m\n\u001b[0m\u001b[1;32m    618\u001b[0m \u001b[0;34m\u001b[0m\u001b[0m\n\u001b[1;32m    619\u001b[0m         \u001b[0mself\u001b[0m\u001b[0;34m.\u001b[0m\u001b[0m_validate_indexers\u001b[0m\u001b[0;34m(\u001b[0m\u001b[0mkey\u001b[0m\u001b[0;34m)\u001b[0m\u001b[0;34m\u001b[0m\u001b[0;34m\u001b[0m\u001b[0m\n",
      "\u001b[0;32m~/opt/anaconda3/lib/python3.8/site-packages/xarray/core/variable.py\u001b[0m in \u001b[0;36m_broadcast_indexes_basic\u001b[0;34m(self, key)\u001b[0m\n\u001b[1;32m    643\u001b[0m             \u001b[0mdim\u001b[0m \u001b[0;32mfor\u001b[0m \u001b[0mk\u001b[0m\u001b[0;34m,\u001b[0m \u001b[0mdim\u001b[0m \u001b[0;32min\u001b[0m \u001b[0mzip\u001b[0m\u001b[0;34m(\u001b[0m\u001b[0mkey\u001b[0m\u001b[0;34m,\u001b[0m \u001b[0mself\u001b[0m\u001b[0;34m.\u001b[0m\u001b[0mdims\u001b[0m\u001b[0;34m)\u001b[0m \u001b[0;32mif\u001b[0m \u001b[0;32mnot\u001b[0m \u001b[0misinstance\u001b[0m\u001b[0;34m(\u001b[0m\u001b[0mk\u001b[0m\u001b[0;34m,\u001b[0m \u001b[0minteger_types\u001b[0m\u001b[0;34m)\u001b[0m\u001b[0;34m\u001b[0m\u001b[0;34m\u001b[0m\u001b[0m\n\u001b[1;32m    644\u001b[0m         )\n\u001b[0;32m--> 645\u001b[0;31m         \u001b[0;32mreturn\u001b[0m \u001b[0mdims\u001b[0m\u001b[0;34m,\u001b[0m \u001b[0mBasicIndexer\u001b[0m\u001b[0;34m(\u001b[0m\u001b[0mkey\u001b[0m\u001b[0;34m)\u001b[0m\u001b[0;34m,\u001b[0m \u001b[0;32mNone\u001b[0m\u001b[0;34m\u001b[0m\u001b[0;34m\u001b[0m\u001b[0m\n\u001b[0m\u001b[1;32m    646\u001b[0m \u001b[0;34m\u001b[0m\u001b[0m\n\u001b[1;32m    647\u001b[0m     \u001b[0;32mdef\u001b[0m \u001b[0m_validate_indexers\u001b[0m\u001b[0;34m(\u001b[0m\u001b[0mself\u001b[0m\u001b[0;34m,\u001b[0m \u001b[0mkey\u001b[0m\u001b[0;34m)\u001b[0m\u001b[0;34m:\u001b[0m\u001b[0;34m\u001b[0m\u001b[0;34m\u001b[0m\u001b[0m\n",
      "\u001b[0;32m~/opt/anaconda3/lib/python3.8/site-packages/xarray/core/indexing.py\u001b[0m in \u001b[0;36m__init__\u001b[0;34m(self, key)\u001b[0m\n\u001b[1;32m    244\u001b[0m             \u001b[0mnew_key\u001b[0m\u001b[0;34m.\u001b[0m\u001b[0mappend\u001b[0m\u001b[0;34m(\u001b[0m\u001b[0mk\u001b[0m\u001b[0;34m)\u001b[0m\u001b[0;34m\u001b[0m\u001b[0;34m\u001b[0m\u001b[0m\n\u001b[1;32m    245\u001b[0m \u001b[0;34m\u001b[0m\u001b[0m\n\u001b[0;32m--> 246\u001b[0;31m         \u001b[0msuper\u001b[0m\u001b[0;34m(\u001b[0m\u001b[0;34m)\u001b[0m\u001b[0;34m.\u001b[0m\u001b[0m__init__\u001b[0m\u001b[0;34m(\u001b[0m\u001b[0mnew_key\u001b[0m\u001b[0;34m)\u001b[0m\u001b[0;34m\u001b[0m\u001b[0;34m\u001b[0m\u001b[0m\n\u001b[0m\u001b[1;32m    247\u001b[0m \u001b[0;34m\u001b[0m\u001b[0m\n\u001b[1;32m    248\u001b[0m \u001b[0;34m\u001b[0m\u001b[0m\n",
      "\u001b[0;31mKeyboardInterrupt\u001b[0m: "
     ]
    }
   ],
   "source": [
    "# At each lat/lon, keep the max wind speed event (above the WS threshold)\n",
    "# then remove all the other events within +- 5 days\n",
    "# find the second-max WS event and store it\n",
    "# remove all the other events within +- 5 days\n",
    "# and continue until no other events above the WS tresholds need to be stored at the location being considered,\n",
    "# then move on to the next lat/lon\n",
    "\n",
    "column_names = ['lat','lon','time','wind_speed','precipitation','ID']\n",
    "df_all = pd.DataFrame(columns = column_names)\n",
    "delta_time = 120 # hours in 5 day interval\n",
    "event_ID = 1 # ID for events\n",
    "\n",
    "start = datetime(1900,12,31,0,0,0) # This is the \"days since\" part\n",
    "\n",
    "for current_lat in ds_windspd.Latitude.to_numpy(): # Loop through lat\n",
    "    # Is this lat in the tropics?\n",
    "    if (current_lat > -30) & (current_lat < 30):\n",
    "        for current_lon in ds_windspd.Longitude.to_numpy(): # Loop through lon\n",
    "            # Is this lat/lon in the ocean?\n",
    "            if globe.is_ocean(current_lat, (current_lon + 180) % 360 - 180):\n",
    "\n",
    "                # wind\n",
    "                d_1 = ds_windspd.sel(Latitude = current_lat, Longitude = current_lon)\n",
    "                # precipitation \n",
    "                d_2 = ds_precip.sel(Latitude = current_lat, Longitude = current_lon)\n",
    "    \n",
    "                # Ignore this lat/lon combination if there are no hurricanes\n",
    "                if np.sum(d_1[varname_1] >= varname_1_value).values > 0: \n",
    "                    # Select only time stamps at this location with WS > 64 knots\n",
    "                    d_1_masked = d_1[varname_1].where(d_1[varname_1] >= varname_1_value, drop=True) \n",
    "                    d_2_masked = d_2[varname_2].where(d_1[varname_1] >= varname_1_value, drop=True)\n",
    "\n",
    "                    d_1_stacked = d_1_masked.stack(x=['MT'])\n",
    "                    d_2_stacked = d_2_masked.stack(x=['MT'])\n",
    "\n",
    "                    d_1_list = d_1_stacked[d_1_stacked.notnull()]\n",
    "                    d_2_list = d_2_stacked[d_2_stacked.notnull()]\n",
    "                    \n",
    "                    # Convert to DataFrame\n",
    "                    d_1_list_df = d_1_list.to_dataframe()\n",
    "                    d_1_list_df['MT'] = np.array(d_1_list.MT)\n",
    "                    \n",
    "                    # Loop through selected time stamps at this lat/lon\n",
    "                    while len(d_1_list_df) > 0: # continue until there are any events left\n",
    "                        # Find index of max WS in the selected time stamps at this lat/lon\n",
    "                        i_max_d1 = max(range(len(d_1_list_df)), key=d_1_list.__getitem__)\n",
    "                        # Store data for the time stamp with max wind speed among those left\n",
    "                        temp = pd.DataFrame(\n",
    "                                {\n",
    "                                    # Lat\n",
    "                                    'lat': d_1_list[i_max_d1].Latitude.values,\n",
    "                                    # Lon\n",
    "                                    'lon': d_1_list[i_max_d1].Longitude.values,\n",
    "                                    # Time\n",
    "                                    'time': [start + timedelta(float(d_1_list.MT[i_max_d1].values))],\n",
    "                                    # WS\n",
    "                                    'wind_speed': [d_1_list[i_max_d1].values],\n",
    "                                    # Precipitation\n",
    "                                    'precipitation': [d_2_list[i_max_d1].values],\n",
    "                                    # ID\n",
    "                                    'ID': event_ID\n",
    "                                })\n",
    "\n",
    "                        # Add event to final DataFrame\n",
    "                        df_all = pd.concat([df_all, temp])\n",
    "                        \n",
    "                        # Increase event ID\n",
    "                        event_ID = event_ID + 1\n",
    "        \n",
    "                        # Remove from list all the events within +- 5 days from stored event\n",
    "                        time_recorded = float(d_1_list.MT[i_max_d1].values) # in days since 1900\n",
    "                        d_1_list_df.drop(d_1_list_df[(d_1_list_df.MT > time_recorded -5) & (d_1_list_df.MT < time_recorded + 5)].index, inplace=True)\n",
    "\n",
    "            \n",
    "# Show final result \n",
    "df_all = df_all.reset_index(drop = True)\n",
    "df_all"
   ]
  },
  {
   "cell_type": "code",
   "execution_count": null,
   "id": "425094fe",
   "metadata": {},
   "outputs": [],
   "source": []
  },
  {
   "cell_type": "code",
   "execution_count": null,
   "id": "b8808c45",
   "metadata": {},
   "outputs": [],
   "source": []
  },
  {
   "cell_type": "code",
   "execution_count": null,
   "id": "4d5fb654",
   "metadata": {},
   "outputs": [],
   "source": []
  },
  {
   "cell_type": "code",
   "execution_count": null,
   "id": "67c266e2",
   "metadata": {},
   "outputs": [],
   "source": []
  },
  {
   "cell_type": "code",
   "execution_count": null,
   "id": "c29a5f0c",
   "metadata": {},
   "outputs": [],
   "source": []
  },
  {
   "cell_type": "code",
   "execution_count": null,
   "id": "8bb08018",
   "metadata": {},
   "outputs": [],
   "source": [
    "# Save\n",
    "df_all.to_csv('df_forcing_2015_newapproach.csv')"
   ]
  },
  {
   "cell_type": "code",
   "execution_count": 207,
   "id": "462fbaac",
   "metadata": {},
   "outputs": [
    {
     "data": {
      "text/html": [
       "<div>\n",
       "<style scoped>\n",
       "    .dataframe tbody tr th:only-of-type {\n",
       "        vertical-align: middle;\n",
       "    }\n",
       "\n",
       "    .dataframe tbody tr th {\n",
       "        vertical-align: top;\n",
       "    }\n",
       "\n",
       "    .dataframe thead th {\n",
       "        text-align: right;\n",
       "    }\n",
       "</style>\n",
       "<table border=\"1\" class=\"dataframe\">\n",
       "  <thead>\n",
       "    <tr style=\"text-align: right;\">\n",
       "      <th></th>\n",
       "      <th>Date</th>\n",
       "      <th>Latitude</th>\n",
       "      <th>Longitude</th>\n",
       "      <th>wndspd</th>\n",
       "      <th>MT</th>\n",
       "    </tr>\n",
       "    <tr>\n",
       "      <th>MT</th>\n",
       "      <th></th>\n",
       "      <th></th>\n",
       "      <th></th>\n",
       "      <th></th>\n",
       "      <th></th>\n",
       "    </tr>\n",
       "  </thead>\n",
       "  <tbody>\n",
       "    <tr>\n",
       "      <th>41739.875000</th>\n",
       "      <td>2.015041e+07</td>\n",
       "      <td>-24.838156</td>\n",
       "      <td>68.931818</td>\n",
       "      <td>34.408203</td>\n",
       "      <td>41739.875000</td>\n",
       "    </tr>\n",
       "    <tr>\n",
       "      <th>41739.916667</th>\n",
       "      <td>2.015041e+07</td>\n",
       "      <td>-24.838156</td>\n",
       "      <td>68.931818</td>\n",
       "      <td>34.414062</td>\n",
       "      <td>41739.916667</td>\n",
       "    </tr>\n",
       "    <tr>\n",
       "      <th>41739.958333</th>\n",
       "      <td>2.015041e+07</td>\n",
       "      <td>-24.838156</td>\n",
       "      <td>68.931818</td>\n",
       "      <td>33.219727</td>\n",
       "      <td>41739.958333</td>\n",
       "    </tr>\n",
       "    <tr>\n",
       "      <th>41740.000000</th>\n",
       "      <td>2.015041e+07</td>\n",
       "      <td>-24.838156</td>\n",
       "      <td>68.931818</td>\n",
       "      <td>33.414062</td>\n",
       "      <td>41740.000000</td>\n",
       "    </tr>\n",
       "  </tbody>\n",
       "</table>\n",
       "</div>"
      ],
      "text/plain": [
       "                      Date   Latitude  Longitude     wndspd            MT\n",
       "MT                                                                       \n",
       "41739.875000  2.015041e+07 -24.838156  68.931818  34.408203  41739.875000\n",
       "41739.916667  2.015041e+07 -24.838156  68.931818  34.414062  41739.916667\n",
       "41739.958333  2.015041e+07 -24.838156  68.931818  33.219727  41739.958333\n",
       "41740.000000  2.015041e+07 -24.838156  68.931818  33.414062  41740.000000"
      ]
     },
     "execution_count": 207,
     "metadata": {},
     "output_type": "execute_result"
    }
   ],
   "source": [
    "d_1_list_df"
   ]
  },
  {
   "cell_type": "code",
   "execution_count": null,
   "id": "0d657d8d",
   "metadata": {},
   "outputs": [],
   "source": []
  },
  {
   "cell_type": "code",
   "execution_count": null,
   "id": "48fed2c0",
   "metadata": {},
   "outputs": [],
   "source": []
  },
  {
   "cell_type": "code",
   "execution_count": null,
   "id": "8adcb41c",
   "metadata": {},
   "outputs": [],
   "source": []
  },
  {
   "cell_type": "code",
   "execution_count": null,
   "id": "8caf44a6",
   "metadata": {},
   "outputs": [],
   "source": []
  },
  {
   "cell_type": "code",
   "execution_count": 36,
   "id": "39f95c0d",
   "metadata": {},
   "outputs": [
    {
     "ename": "ValueError",
     "evalue": "The truth value of a Series is ambiguous. Use a.empty, a.bool(), a.item(), a.any() or a.all().",
     "output_type": "error",
     "traceback": [
      "\u001b[0;31m---------------------------------------------------------------------------\u001b[0m",
      "\u001b[0;31mValueError\u001b[0m                                Traceback (most recent call last)",
      "\u001b[0;32m<ipython-input-36-2120c377ae2f>\u001b[0m in \u001b[0;36m<module>\u001b[0;34m\u001b[0m\n\u001b[1;32m     48\u001b[0m                                                \u001b[0;34m&\u001b[0m \u001b[0;34m(\u001b[0m\u001b[0mdf_all\u001b[0m\u001b[0;34m.\u001b[0m\u001b[0mtime\u001b[0m \u001b[0;34m>\u001b[0m \u001b[0mstart\u001b[0m \u001b[0;34m+\u001b[0m \u001b[0mtimedelta\u001b[0m\u001b[0;34m(\u001b[0m\u001b[0mi\u001b[0m\u001b[0;34m)\u001b[0m \u001b[0;34m-\u001b[0m \u001b[0mtimedelta\u001b[0m\u001b[0;34m(\u001b[0m\u001b[0mhours\u001b[0m\u001b[0;34m=\u001b[0m\u001b[0mdelta_time\u001b[0m\u001b[0;34m)\u001b[0m\u001b[0;34m)\u001b[0m \u001b[0;34m&\u001b[0m\u001b[0;31m \u001b[0m\u001b[0;31m\\\u001b[0m\u001b[0;34m\u001b[0m\u001b[0;34m\u001b[0m\u001b[0m\n\u001b[1;32m     49\u001b[0m                                                 (df_all.time < start + timedelta(i) + timedelta(hours=delta_time))].wind_speed\n\u001b[0;32m---> 50\u001b[0;31m                     \u001b[0;32mif\u001b[0m \u001b[0md_1_list\u001b[0m\u001b[0;34m[\u001b[0m\u001b[0mj\u001b[0m\u001b[0;34m]\u001b[0m\u001b[0;34m.\u001b[0m\u001b[0mvalues\u001b[0m \u001b[0;34m>\u001b[0m \u001b[0mWS_already_stored\u001b[0m\u001b[0;34m:\u001b[0m\u001b[0;34m\u001b[0m\u001b[0;34m\u001b[0m\u001b[0m\n\u001b[0m\u001b[1;32m     51\u001b[0m                         \u001b[0;31m# Remove weaker row\u001b[0m\u001b[0;34m\u001b[0m\u001b[0;34m\u001b[0m\u001b[0;34m\u001b[0m\u001b[0m\n\u001b[1;32m     52\u001b[0m                         df_all[(df_all.lat == d_1_list.Latitude[j].values) & (df_all.lon == d_1_list.Longitude[j].values) \\\n",
      "\u001b[0;32m~/opt/anaconda3/lib/python3.8/site-packages/pandas/core/generic.py\u001b[0m in \u001b[0;36m__nonzero__\u001b[0;34m(self)\u001b[0m\n\u001b[1;32m   1533\u001b[0m     \u001b[0;34m@\u001b[0m\u001b[0mfinal\u001b[0m\u001b[0;34m\u001b[0m\u001b[0;34m\u001b[0m\u001b[0m\n\u001b[1;32m   1534\u001b[0m     \u001b[0;32mdef\u001b[0m \u001b[0m__nonzero__\u001b[0m\u001b[0;34m(\u001b[0m\u001b[0mself\u001b[0m\u001b[0;34m)\u001b[0m\u001b[0;34m:\u001b[0m\u001b[0;34m\u001b[0m\u001b[0;34m\u001b[0m\u001b[0m\n\u001b[0;32m-> 1535\u001b[0;31m         raise ValueError(\n\u001b[0m\u001b[1;32m   1536\u001b[0m             \u001b[0;34mf\"The truth value of a {type(self).__name__} is ambiguous. \"\u001b[0m\u001b[0;34m\u001b[0m\u001b[0;34m\u001b[0m\u001b[0m\n\u001b[1;32m   1537\u001b[0m             \u001b[0;34m\"Use a.empty, a.bool(), a.item(), a.any() or a.all().\"\u001b[0m\u001b[0;34m\u001b[0m\u001b[0;34m\u001b[0m\u001b[0m\n",
      "\u001b[0;31mValueError\u001b[0m: The truth value of a Series is ambiguous. Use a.empty, a.bool(), a.item(), a.any() or a.all()."
     ]
    }
   ],
   "source": [
    "column_names = ['lat','lon','time','wind_speed','precipitation']\n",
    "df_all = pd.DataFrame(columns = column_names)\n",
    "delta_time = 120 # hours in 5 day interval\n",
    "\n",
    "start = datetime(1900,12,31,0,0,0) # This is the \"days since\" part\n",
    "\n",
    "for i in ds_windspd.MT.to_numpy(): # Loop through timesteps\n",
    "    # wind\n",
    "    d_1 = ds_windspd.sel(MT=i)\n",
    "    # precipitation \n",
    "    d_2 = ds_precip.sel(MT=i)\n",
    "    \n",
    "    # Select only time stamps and locations with WS > 64 knots\n",
    "    if np.sum(d_1[varname_1] >= varname_1_value).values > 0: # ignore this time stamp if there are no hurricanes\n",
    "        d_1_masked = d_1[varname_1].where(d_1[varname_1] >= varname_1_value, drop=True) \n",
    "        d_2_masked = d_2[varname_2].where(d_1[varname_1] >= varname_1_value, drop=True)\n",
    "\n",
    "        d_1_stacked = d_1_masked.stack(x=['Latitude','Longitude'])\n",
    "        d_2_stacked = d_2_masked.stack(x=['Latitude','Longitude'])\n",
    "\n",
    "        d_1_list = d_1_stacked[d_1_stacked.notnull()]\n",
    "        d_2_list = d_2_stacked[d_2_stacked.notnull()]\n",
    "        \n",
    "        # Populate DataFrame\n",
    "        for j in np.arange(d_1_list.shape[0]):\n",
    "            # If within tropics\n",
    "            if (d_1_list.Latitude[j].values > -30) & (d_1_list.Latitude[j].values < +30):\n",
    "                # If no rows with same lat, lon and within +-5 days are present:\n",
    "                if df_all[(df_all.lat == d_1_list.Latitude[j].values) & (df_all.lon == d_1_list.Longitude[j].values) \\\n",
    "                   & (df_all.time > start + timedelta(i) - timedelta(hours=delta_time)) & \\\n",
    "                   (df_all.time < start + timedelta(i) + timedelta(hours=delta_time))].empty:\n",
    "                    temp = pd.DataFrame(\n",
    "                            {\n",
    "                                # Lat\n",
    "                                'lat': d_1_list.Latitude[j].values,\n",
    "                                # Lon\n",
    "                                'lon': d_1_list.Longitude[j].values,\n",
    "                                # Time\n",
    "                                'time': [start + timedelta(i)],\n",
    "                                # WS\n",
    "                                'wind_speed': [d_1_list[j].values],\n",
    "                                # Precipitation\n",
    "                                'precipitation': [d_2_list[j].values]\n",
    "                            })\n",
    "                else:\n",
    "                    # if there already something stored in the same spatio-temporal vicinity, check the winds and keep the stronger one\n",
    "                    WS_already_stored = df_all[(df_all.lat == d_1_list.Latitude[j].values) & (df_all.lon == d_1_list.Longitude[j].values) \\\n",
    "                                               & (df_all.time > start + timedelta(i) - timedelta(hours=delta_time)) & \\\n",
    "                                                (df_all.time < start + timedelta(i) + timedelta(hours=delta_time))].wind_speed\n",
    "                    if float(d_1_list[j].values) > float(WS_already_stored):\n",
    "                        # Remove weaker row\n",
    "                        df_all[(df_all.lat == d_1_list.Latitude[j].values) & (df_all.lon == d_1_list.Longitude[j].values) \\\n",
    "                                               & (df_all.time > start + timedelta(i) - timedelta(hours=delta_time)) & \\\n",
    "                                                (df_all.time < start + timedelta(i) + timedelta(hours=delta_time))].drop()\n",
    "\n",
    "                        # Use the stronger wind instead\n",
    "                        temp = pd.DataFrame(\n",
    "                                {\n",
    "                                    # Lat\n",
    "                                    'lat': d_1_list.Latitude[j].values,\n",
    "                                    # Lon\n",
    "                                    'lon': d_1_list.Longitude[j].values,\n",
    "                                    # Time\n",
    "                                    'time': [start + timedelta(i)],\n",
    "                                    # WS\n",
    "                                    'wind_speed': [d_1_list[j].values],\n",
    "                                    # Precipitation\n",
    "                                    'precipitation': [d_2_list[j].values]\n",
    "                                })                           \n",
    "\n",
    "\n",
    "                df_all = pd.concat([df_all, temp])\n",
    "\n",
    "# Show final result \n",
    "df_all = df_all#.reset_index()\n"
   ]
  },
  {
   "cell_type": "code",
   "execution_count": 41,
   "id": "23cbdde6",
   "metadata": {},
   "outputs": [
    {
     "data": {
      "text/plain": [
       "33.2958984375"
      ]
     },
     "execution_count": 41,
     "metadata": {},
     "output_type": "execute_result"
    }
   ],
   "source": [
    "float(d_1_list[j].values)"
   ]
  },
  {
   "cell_type": "code",
   "execution_count": 40,
   "id": "adfb6e80",
   "metadata": {},
   "outputs": [
    {
     "data": {
      "text/plain": [
       "33.6240234375"
      ]
     },
     "execution_count": 40,
     "metadata": {},
     "output_type": "execute_result"
    }
   ],
   "source": [
    "float(WS_already_stored)"
   ]
  },
  {
   "cell_type": "code",
   "execution_count": null,
   "id": "f33085ff",
   "metadata": {},
   "outputs": [],
   "source": []
  },
  {
   "cell_type": "code",
   "execution_count": null,
   "id": "f7c29c03",
   "metadata": {},
   "outputs": [],
   "source": []
  },
  {
   "cell_type": "code",
   "execution_count": null,
   "id": "fc2a5984",
   "metadata": {},
   "outputs": [],
   "source": []
  },
  {
   "cell_type": "code",
   "execution_count": null,
   "id": "1aec68cb",
   "metadata": {},
   "outputs": [],
   "source": []
  },
  {
   "cell_type": "code",
   "execution_count": null,
   "id": "ee52f107",
   "metadata": {},
   "outputs": [],
   "source": [
    "# Save\n",
    "df_all.to_csv('df_forcing_2015.csv')"
   ]
  },
  {
   "cell_type": "code",
   "execution_count": null,
   "id": "683eecae",
   "metadata": {},
   "outputs": [],
   "source": [
    "# df_all[(df_all.lat > -30) & (df_all.lon < 30)]\n"
   ]
  },
  {
   "cell_type": "code",
   "execution_count": null,
   "id": "260a75f6",
   "metadata": {},
   "outputs": [],
   "source": []
  },
  {
   "cell_type": "code",
   "execution_count": 26,
   "id": "233ccf3e",
   "metadata": {},
   "outputs": [],
   "source": [
    "df_all = df_all.reset_index(drop=True)"
   ]
  },
  {
   "cell_type": "code",
   "execution_count": 27,
   "id": "013d07d7",
   "metadata": {},
   "outputs": [
    {
     "data": {
      "text/html": [
       "<div>\n",
       "<style scoped>\n",
       "    .dataframe tbody tr th:only-of-type {\n",
       "        vertical-align: middle;\n",
       "    }\n",
       "\n",
       "    .dataframe tbody tr th {\n",
       "        vertical-align: top;\n",
       "    }\n",
       "\n",
       "    .dataframe thead th {\n",
       "        text-align: right;\n",
       "    }\n",
       "</style>\n",
       "<table border=\"1\" class=\"dataframe\">\n",
       "  <thead>\n",
       "    <tr style=\"text-align: right;\">\n",
       "      <th></th>\n",
       "      <th>lat</th>\n",
       "      <th>lon</th>\n",
       "      <th>time</th>\n",
       "      <th>wind_speed</th>\n",
       "      <th>precipitation</th>\n",
       "    </tr>\n",
       "  </thead>\n",
       "  <tbody>\n",
       "    <tr>\n",
       "      <th>0</th>\n",
       "      <td>-18.296419</td>\n",
       "      <td>58.704545</td>\n",
       "      <td>2015-01-13 13:00:00</td>\n",
       "      <td>33.624023</td>\n",
       "      <td>0.0014979057</td>\n",
       "    </tr>\n",
       "    <tr>\n",
       "      <th>1</th>\n",
       "      <td>-18.296419</td>\n",
       "      <td>58.909091</td>\n",
       "      <td>2015-01-13 13:00:00</td>\n",
       "      <td>33.243164</td>\n",
       "      <td>0.0016555786</td>\n",
       "    </tr>\n",
       "    <tr>\n",
       "      <th>2</th>\n",
       "      <td>-18.09199</td>\n",
       "      <td>58.704545</td>\n",
       "      <td>2015-01-13 13:00:00</td>\n",
       "      <td>33.341797</td>\n",
       "      <td>0.0008672066</td>\n",
       "    </tr>\n",
       "    <tr>\n",
       "      <th>3</th>\n",
       "      <td>-18.09199</td>\n",
       "      <td>58.909091</td>\n",
       "      <td>2015-01-13 13:00:00</td>\n",
       "      <td>33.948242</td>\n",
       "      <td>0.0011571236</td>\n",
       "    </tr>\n",
       "    <tr>\n",
       "      <th>4</th>\n",
       "      <td>-18.09199</td>\n",
       "      <td>59.113636</td>\n",
       "      <td>2015-01-13 13:00:00</td>\n",
       "      <td>33.13379</td>\n",
       "      <td>0.0014724731</td>\n",
       "    </tr>\n",
       "    <tr>\n",
       "      <th>...</th>\n",
       "      <td>...</td>\n",
       "      <td>...</td>\n",
       "      <td>...</td>\n",
       "      <td>...</td>\n",
       "      <td>...</td>\n",
       "    </tr>\n",
       "    <tr>\n",
       "      <th>9479</th>\n",
       "      <td>-25.655873</td>\n",
       "      <td>76.499999</td>\n",
       "      <td>2015-01-18 09:00:00</td>\n",
       "      <td>33.176758</td>\n",
       "      <td>0.001209259</td>\n",
       "    </tr>\n",
       "    <tr>\n",
       "      <th>9480</th>\n",
       "      <td>-27.086878</td>\n",
       "      <td>79.772727</td>\n",
       "      <td>2015-01-18 15:00:00</td>\n",
       "      <td>33.0166</td>\n",
       "      <td>0.00012207031</td>\n",
       "    </tr>\n",
       "    <tr>\n",
       "      <th>9481</th>\n",
       "      <td>-27.495736</td>\n",
       "      <td>81.818181</td>\n",
       "      <td>2015-01-18 19:00:00</td>\n",
       "      <td>33.216797</td>\n",
       "      <td>0.00024541095</td>\n",
       "    </tr>\n",
       "    <tr>\n",
       "      <th>9482</th>\n",
       "      <td>-27.291307</td>\n",
       "      <td>81.613636</td>\n",
       "      <td>2015-01-18 19:00:00</td>\n",
       "      <td>33.32129</td>\n",
       "      <td>0.000118255615</td>\n",
       "    </tr>\n",
       "    <tr>\n",
       "      <th>9483</th>\n",
       "      <td>-27.086878</td>\n",
       "      <td>81.40909</td>\n",
       "      <td>2015-01-18 19:00:00</td>\n",
       "      <td>33.206055</td>\n",
       "      <td>3.56026e-05</td>\n",
       "    </tr>\n",
       "  </tbody>\n",
       "</table>\n",
       "<p>9484 rows × 5 columns</p>\n",
       "</div>"
      ],
      "text/plain": [
       "            lat        lon                 time wind_speed   precipitation\n",
       "0    -18.296419  58.704545  2015-01-13 13:00:00  33.624023    0.0014979057\n",
       "1    -18.296419  58.909091  2015-01-13 13:00:00  33.243164    0.0016555786\n",
       "2     -18.09199  58.704545  2015-01-13 13:00:00  33.341797    0.0008672066\n",
       "3     -18.09199  58.909091  2015-01-13 13:00:00  33.948242    0.0011571236\n",
       "4     -18.09199  59.113636  2015-01-13 13:00:00   33.13379    0.0014724731\n",
       "...         ...        ...                  ...        ...             ...\n",
       "9479 -25.655873  76.499999  2015-01-18 09:00:00  33.176758     0.001209259\n",
       "9480 -27.086878  79.772727  2015-01-18 15:00:00    33.0166   0.00012207031\n",
       "9481 -27.495736  81.818181  2015-01-18 19:00:00  33.216797   0.00024541095\n",
       "9482 -27.291307  81.613636  2015-01-18 19:00:00   33.32129  0.000118255615\n",
       "9483 -27.086878   81.40909  2015-01-18 19:00:00  33.206055     3.56026e-05\n",
       "\n",
       "[9484 rows x 5 columns]"
      ]
     },
     "execution_count": 27,
     "metadata": {},
     "output_type": "execute_result"
    }
   ],
   "source": [
    "df_all"
   ]
  },
  {
   "cell_type": "code",
   "execution_count": null,
   "id": "a56c5554",
   "metadata": {},
   "outputs": [],
   "source": []
  },
  {
   "cell_type": "code",
   "execution_count": 28,
   "id": "c0cc460c",
   "metadata": {},
   "outputs": [
    {
     "ename": "KeyboardInterrupt",
     "evalue": "",
     "output_type": "error",
     "traceback": [
      "\u001b[0;31m---------------------------------------------------------------------------\u001b[0m",
      "\u001b[0;31mKeyboardInterrupt\u001b[0m                         Traceback (most recent call last)",
      "\u001b[0;32m<ipython-input-28-fcabbfc87c94>\u001b[0m in \u001b[0;36m<module>\u001b[0;34m\u001b[0m\n\u001b[1;32m      9\u001b[0m     if df_all_new[(df_all_new.lat == df_all.lat[i]) & (df_all_new.lon == df_all.lon[i]) \\\n\u001b[1;32m     10\u001b[0m            \u001b[0;34m&\u001b[0m \u001b[0;34m(\u001b[0m\u001b[0mdf_all_new\u001b[0m\u001b[0;34m.\u001b[0m\u001b[0mtime\u001b[0m \u001b[0;34m>\u001b[0m \u001b[0mdf_all\u001b[0m\u001b[0;34m.\u001b[0m\u001b[0mtime\u001b[0m\u001b[0;34m[\u001b[0m\u001b[0mi\u001b[0m\u001b[0;34m]\u001b[0m \u001b[0;34m-\u001b[0m \u001b[0mtimedelta\u001b[0m\u001b[0;34m(\u001b[0m\u001b[0mhours\u001b[0m\u001b[0;34m=\u001b[0m\u001b[0mdelta_time\u001b[0m\u001b[0;34m)\u001b[0m\u001b[0;34m)\u001b[0m \u001b[0;34m&\u001b[0m\u001b[0;31m \u001b[0m\u001b[0;31m\\\u001b[0m\u001b[0;34m\u001b[0m\u001b[0;34m\u001b[0m\u001b[0m\n\u001b[0;32m---> 11\u001b[0;31m            (df_all_new.time < df_all.time[i] + timedelta(hours=delta_time))].empty:\n\u001b[0m\u001b[1;32m     12\u001b[0m \u001b[0;34m\u001b[0m\u001b[0m\n\u001b[1;32m     13\u001b[0m         \u001b[0;31m# Create a DataFrame with lat, lon, time\u001b[0m\u001b[0;34m\u001b[0m\u001b[0;34m\u001b[0m\u001b[0;34m\u001b[0m\u001b[0m\n",
      "\u001b[0;32m~/opt/anaconda3/lib/python3.8/site-packages/pandas/core/ops/common.py\u001b[0m in \u001b[0;36mnew_method\u001b[0;34m(self, other)\u001b[0m\n\u001b[1;32m     68\u001b[0m         \u001b[0mother\u001b[0m \u001b[0;34m=\u001b[0m \u001b[0mitem_from_zerodim\u001b[0m\u001b[0;34m(\u001b[0m\u001b[0mother\u001b[0m\u001b[0;34m)\u001b[0m\u001b[0;34m\u001b[0m\u001b[0;34m\u001b[0m\u001b[0m\n\u001b[1;32m     69\u001b[0m \u001b[0;34m\u001b[0m\u001b[0m\n\u001b[0;32m---> 70\u001b[0;31m         \u001b[0;32mreturn\u001b[0m \u001b[0mmethod\u001b[0m\u001b[0;34m(\u001b[0m\u001b[0mself\u001b[0m\u001b[0;34m,\u001b[0m \u001b[0mother\u001b[0m\u001b[0;34m)\u001b[0m\u001b[0;34m\u001b[0m\u001b[0;34m\u001b[0m\u001b[0m\n\u001b[0m\u001b[1;32m     71\u001b[0m \u001b[0;34m\u001b[0m\u001b[0m\n\u001b[1;32m     72\u001b[0m     \u001b[0;32mreturn\u001b[0m \u001b[0mnew_method\u001b[0m\u001b[0;34m\u001b[0m\u001b[0;34m\u001b[0m\u001b[0m\n",
      "\u001b[0;32m~/opt/anaconda3/lib/python3.8/site-packages/pandas/core/arraylike.py\u001b[0m in \u001b[0;36m__lt__\u001b[0;34m(self, other)\u001b[0m\n\u001b[1;32m     46\u001b[0m     \u001b[0;34m@\u001b[0m\u001b[0munpack_zerodim_and_defer\u001b[0m\u001b[0;34m(\u001b[0m\u001b[0;34m\"__lt__\"\u001b[0m\u001b[0;34m)\u001b[0m\u001b[0;34m\u001b[0m\u001b[0;34m\u001b[0m\u001b[0m\n\u001b[1;32m     47\u001b[0m     \u001b[0;32mdef\u001b[0m \u001b[0m__lt__\u001b[0m\u001b[0;34m(\u001b[0m\u001b[0mself\u001b[0m\u001b[0;34m,\u001b[0m \u001b[0mother\u001b[0m\u001b[0;34m)\u001b[0m\u001b[0;34m:\u001b[0m\u001b[0;34m\u001b[0m\u001b[0;34m\u001b[0m\u001b[0m\n\u001b[0;32m---> 48\u001b[0;31m         \u001b[0;32mreturn\u001b[0m \u001b[0mself\u001b[0m\u001b[0;34m.\u001b[0m\u001b[0m_cmp_method\u001b[0m\u001b[0;34m(\u001b[0m\u001b[0mother\u001b[0m\u001b[0;34m,\u001b[0m \u001b[0moperator\u001b[0m\u001b[0;34m.\u001b[0m\u001b[0mlt\u001b[0m\u001b[0;34m)\u001b[0m\u001b[0;34m\u001b[0m\u001b[0;34m\u001b[0m\u001b[0m\n\u001b[0m\u001b[1;32m     49\u001b[0m \u001b[0;34m\u001b[0m\u001b[0m\n\u001b[1;32m     50\u001b[0m     \u001b[0;34m@\u001b[0m\u001b[0munpack_zerodim_and_defer\u001b[0m\u001b[0;34m(\u001b[0m\u001b[0;34m\"__le__\"\u001b[0m\u001b[0;34m)\u001b[0m\u001b[0;34m\u001b[0m\u001b[0;34m\u001b[0m\u001b[0m\n",
      "\u001b[0;32m~/opt/anaconda3/lib/python3.8/site-packages/pandas/core/series.py\u001b[0m in \u001b[0;36m_cmp_method\u001b[0;34m(self, other, op)\u001b[0m\n\u001b[1;32m   5621\u001b[0m \u001b[0;34m\u001b[0m\u001b[0m\n\u001b[1;32m   5622\u001b[0m         \u001b[0;32mwith\u001b[0m \u001b[0mnp\u001b[0m\u001b[0;34m.\u001b[0m\u001b[0merrstate\u001b[0m\u001b[0;34m(\u001b[0m\u001b[0mall\u001b[0m\u001b[0;34m=\u001b[0m\u001b[0;34m\"ignore\"\u001b[0m\u001b[0;34m)\u001b[0m\u001b[0;34m:\u001b[0m\u001b[0;34m\u001b[0m\u001b[0;34m\u001b[0m\u001b[0m\n\u001b[0;32m-> 5623\u001b[0;31m             \u001b[0mres_values\u001b[0m \u001b[0;34m=\u001b[0m \u001b[0mops\u001b[0m\u001b[0;34m.\u001b[0m\u001b[0mcomparison_op\u001b[0m\u001b[0;34m(\u001b[0m\u001b[0mlvalues\u001b[0m\u001b[0;34m,\u001b[0m \u001b[0mrvalues\u001b[0m\u001b[0;34m,\u001b[0m \u001b[0mop\u001b[0m\u001b[0;34m)\u001b[0m\u001b[0;34m\u001b[0m\u001b[0;34m\u001b[0m\u001b[0m\n\u001b[0m\u001b[1;32m   5624\u001b[0m \u001b[0;34m\u001b[0m\u001b[0m\n\u001b[1;32m   5625\u001b[0m         \u001b[0;32mreturn\u001b[0m \u001b[0mself\u001b[0m\u001b[0;34m.\u001b[0m\u001b[0m_construct_result\u001b[0m\u001b[0;34m(\u001b[0m\u001b[0mres_values\u001b[0m\u001b[0;34m,\u001b[0m \u001b[0mname\u001b[0m\u001b[0;34m=\u001b[0m\u001b[0mres_name\u001b[0m\u001b[0;34m)\u001b[0m\u001b[0;34m\u001b[0m\u001b[0;34m\u001b[0m\u001b[0m\n",
      "\u001b[0;32m~/opt/anaconda3/lib/python3.8/site-packages/pandas/core/ops/array_ops.py\u001b[0m in \u001b[0;36mcomparison_op\u001b[0;34m(left, right, op)\u001b[0m\n\u001b[1;32m    281\u001b[0m \u001b[0;34m\u001b[0m\u001b[0m\n\u001b[1;32m    282\u001b[0m     \u001b[0;32melif\u001b[0m \u001b[0mis_object_dtype\u001b[0m\u001b[0;34m(\u001b[0m\u001b[0mlvalues\u001b[0m\u001b[0;34m.\u001b[0m\u001b[0mdtype\u001b[0m\u001b[0;34m)\u001b[0m \u001b[0;32mor\u001b[0m \u001b[0misinstance\u001b[0m\u001b[0;34m(\u001b[0m\u001b[0mrvalues\u001b[0m\u001b[0;34m,\u001b[0m \u001b[0mstr\u001b[0m\u001b[0;34m)\u001b[0m\u001b[0;34m:\u001b[0m\u001b[0;34m\u001b[0m\u001b[0;34m\u001b[0m\u001b[0m\n\u001b[0;32m--> 283\u001b[0;31m         \u001b[0mres_values\u001b[0m \u001b[0;34m=\u001b[0m \u001b[0mcomp_method_OBJECT_ARRAY\u001b[0m\u001b[0;34m(\u001b[0m\u001b[0mop\u001b[0m\u001b[0;34m,\u001b[0m \u001b[0mlvalues\u001b[0m\u001b[0;34m,\u001b[0m \u001b[0mrvalues\u001b[0m\u001b[0;34m)\u001b[0m\u001b[0;34m\u001b[0m\u001b[0;34m\u001b[0m\u001b[0m\n\u001b[0m\u001b[1;32m    284\u001b[0m \u001b[0;34m\u001b[0m\u001b[0m\n\u001b[1;32m    285\u001b[0m     \u001b[0;32melse\u001b[0m\u001b[0;34m:\u001b[0m\u001b[0;34m\u001b[0m\u001b[0;34m\u001b[0m\u001b[0m\n",
      "\u001b[0;32m~/opt/anaconda3/lib/python3.8/site-packages/pandas/core/ops/array_ops.py\u001b[0m in \u001b[0;36mcomp_method_OBJECT_ARRAY\u001b[0;34m(op, x, y)\u001b[0m\n\u001b[1;32m     71\u001b[0m         \u001b[0mresult\u001b[0m \u001b[0;34m=\u001b[0m \u001b[0mlibops\u001b[0m\u001b[0;34m.\u001b[0m\u001b[0mvec_compare\u001b[0m\u001b[0;34m(\u001b[0m\u001b[0mx\u001b[0m\u001b[0;34m.\u001b[0m\u001b[0mravel\u001b[0m\u001b[0;34m(\u001b[0m\u001b[0;34m)\u001b[0m\u001b[0;34m,\u001b[0m \u001b[0my\u001b[0m\u001b[0;34m.\u001b[0m\u001b[0mravel\u001b[0m\u001b[0;34m(\u001b[0m\u001b[0;34m)\u001b[0m\u001b[0;34m,\u001b[0m \u001b[0mop\u001b[0m\u001b[0;34m)\u001b[0m\u001b[0;34m\u001b[0m\u001b[0;34m\u001b[0m\u001b[0m\n\u001b[1;32m     72\u001b[0m     \u001b[0;32melse\u001b[0m\u001b[0;34m:\u001b[0m\u001b[0;34m\u001b[0m\u001b[0;34m\u001b[0m\u001b[0m\n\u001b[0;32m---> 73\u001b[0;31m         \u001b[0mresult\u001b[0m \u001b[0;34m=\u001b[0m \u001b[0mlibops\u001b[0m\u001b[0;34m.\u001b[0m\u001b[0mscalar_compare\u001b[0m\u001b[0;34m(\u001b[0m\u001b[0mx\u001b[0m\u001b[0;34m.\u001b[0m\u001b[0mravel\u001b[0m\u001b[0;34m(\u001b[0m\u001b[0;34m)\u001b[0m\u001b[0;34m,\u001b[0m \u001b[0my\u001b[0m\u001b[0;34m,\u001b[0m \u001b[0mop\u001b[0m\u001b[0;34m)\u001b[0m\u001b[0;34m\u001b[0m\u001b[0;34m\u001b[0m\u001b[0m\n\u001b[0m\u001b[1;32m     74\u001b[0m     \u001b[0;32mreturn\u001b[0m \u001b[0mresult\u001b[0m\u001b[0;34m.\u001b[0m\u001b[0mreshape\u001b[0m\u001b[0;34m(\u001b[0m\u001b[0mx\u001b[0m\u001b[0;34m.\u001b[0m\u001b[0mshape\u001b[0m\u001b[0;34m)\u001b[0m\u001b[0;34m\u001b[0m\u001b[0;34m\u001b[0m\u001b[0m\n\u001b[1;32m     75\u001b[0m \u001b[0;34m\u001b[0m\u001b[0m\n",
      "\u001b[0;31mKeyboardInterrupt\u001b[0m: "
     ]
    }
   ],
   "source": [
    "column_names = ['lat','lon','time','ID']\n",
    "event_ID = 1\n",
    "delta_time = 120\n",
    "df_all_new  = pd.DataFrame(columns = column_names)\n",
    "\n",
    "for i in np.arange(0,len(df_all)): # loop through rows of original dataframe\n",
    "    # Do not consider this df_all all if df_all_new already includes something at the same lat, lon \n",
    "    # and within +- 5 days of it\n",
    "    if df_all_new[(df_all_new.lat == df_all.lat[i]) & (df_all_new.lon == df_all.lon[i]) \\\n",
    "           & (df_all_new.time > df_all.time[i] - timedelta(hours=delta_time)) & \\\n",
    "           (df_all_new.time < df_all.time[i] + timedelta(hours=delta_time))].empty:\n",
    "\n",
    "        # Create a DataFrame with lat, lon, time\n",
    "        temp_all = pd.DataFrame(columns = column_names)\n",
    "        # Populate DataFrame with same lat, lon, and all hourly timestamps within +- days\n",
    "        for j in np.arange(-delta_time, delta_time): # loop across +- 5 days\n",
    "            temp = pd.DataFrame(\n",
    "                            {\n",
    "                                # Lat\n",
    "                                'lat': df_all.lat[i],\n",
    "                                # Lon\n",
    "                                'lon': df_all.lon[i],\n",
    "                                # Time\n",
    "                                'time': [df_all.time[i] + timedelta(hours=int(j))],\n",
    "                                # Event ID\n",
    "                                'ID': event_ID\n",
    "                            })\n",
    "            temp_all = pd.concat([temp_all, temp]).reset_index(drop=True)\n",
    "\n",
    "        # Concatenate to final DataFrame\n",
    "        df_all_new = pd.concat([df_all_new, temp_all]).reset_index(drop=True)\n",
    "        # Increase index to keep track of events\n",
    "        event_ID = event_ID + 1"
   ]
  },
  {
   "cell_type": "code",
   "execution_count": 29,
   "id": "dfa6019d",
   "metadata": {},
   "outputs": [
    {
     "data": {
      "text/html": [
       "<div>\n",
       "<style scoped>\n",
       "    .dataframe tbody tr th:only-of-type {\n",
       "        vertical-align: middle;\n",
       "    }\n",
       "\n",
       "    .dataframe tbody tr th {\n",
       "        vertical-align: top;\n",
       "    }\n",
       "\n",
       "    .dataframe thead th {\n",
       "        text-align: right;\n",
       "    }\n",
       "</style>\n",
       "<table border=\"1\" class=\"dataframe\">\n",
       "  <thead>\n",
       "    <tr style=\"text-align: right;\">\n",
       "      <th></th>\n",
       "      <th>lat</th>\n",
       "      <th>lon</th>\n",
       "      <th>time</th>\n",
       "      <th>ID</th>\n",
       "    </tr>\n",
       "  </thead>\n",
       "  <tbody>\n",
       "    <tr>\n",
       "      <th>0</th>\n",
       "      <td>-18.296419</td>\n",
       "      <td>58.704545</td>\n",
       "      <td>2015-01-08 13:00:00</td>\n",
       "      <td>1</td>\n",
       "    </tr>\n",
       "    <tr>\n",
       "      <th>1</th>\n",
       "      <td>-18.296419</td>\n",
       "      <td>58.704545</td>\n",
       "      <td>2015-01-08 14:00:00</td>\n",
       "      <td>1</td>\n",
       "    </tr>\n",
       "    <tr>\n",
       "      <th>2</th>\n",
       "      <td>-18.296419</td>\n",
       "      <td>58.704545</td>\n",
       "      <td>2015-01-08 15:00:00</td>\n",
       "      <td>1</td>\n",
       "    </tr>\n",
       "    <tr>\n",
       "      <th>3</th>\n",
       "      <td>-18.296419</td>\n",
       "      <td>58.704545</td>\n",
       "      <td>2015-01-08 16:00:00</td>\n",
       "      <td>1</td>\n",
       "    </tr>\n",
       "    <tr>\n",
       "      <th>4</th>\n",
       "      <td>-18.296419</td>\n",
       "      <td>58.704545</td>\n",
       "      <td>2015-01-08 17:00:00</td>\n",
       "      <td>1</td>\n",
       "    </tr>\n",
       "    <tr>\n",
       "      <th>...</th>\n",
       "      <td>...</td>\n",
       "      <td>...</td>\n",
       "      <td>...</td>\n",
       "      <td>...</td>\n",
       "    </tr>\n",
       "    <tr>\n",
       "      <th>186475</th>\n",
       "      <td>-19.114136</td>\n",
       "      <td>66.477272</td>\n",
       "      <td>2015-01-20 23:00:00</td>\n",
       "      <td>777</td>\n",
       "    </tr>\n",
       "    <tr>\n",
       "      <th>186476</th>\n",
       "      <td>-19.114136</td>\n",
       "      <td>66.477272</td>\n",
       "      <td>2015-01-21 00:00:00</td>\n",
       "      <td>777</td>\n",
       "    </tr>\n",
       "    <tr>\n",
       "      <th>186477</th>\n",
       "      <td>-19.114136</td>\n",
       "      <td>66.477272</td>\n",
       "      <td>2015-01-21 01:00:00</td>\n",
       "      <td>777</td>\n",
       "    </tr>\n",
       "    <tr>\n",
       "      <th>186478</th>\n",
       "      <td>-19.114136</td>\n",
       "      <td>66.477272</td>\n",
       "      <td>2015-01-21 02:00:00</td>\n",
       "      <td>777</td>\n",
       "    </tr>\n",
       "    <tr>\n",
       "      <th>186479</th>\n",
       "      <td>-19.114136</td>\n",
       "      <td>66.477272</td>\n",
       "      <td>2015-01-21 03:00:00</td>\n",
       "      <td>777</td>\n",
       "    </tr>\n",
       "  </tbody>\n",
       "</table>\n",
       "<p>186480 rows × 4 columns</p>\n",
       "</div>"
      ],
      "text/plain": [
       "              lat        lon                 time   ID\n",
       "0      -18.296419  58.704545  2015-01-08 13:00:00    1\n",
       "1      -18.296419  58.704545  2015-01-08 14:00:00    1\n",
       "2      -18.296419  58.704545  2015-01-08 15:00:00    1\n",
       "3      -18.296419  58.704545  2015-01-08 16:00:00    1\n",
       "4      -18.296419  58.704545  2015-01-08 17:00:00    1\n",
       "...           ...        ...                  ...  ...\n",
       "186475 -19.114136  66.477272  2015-01-20 23:00:00  777\n",
       "186476 -19.114136  66.477272  2015-01-21 00:00:00  777\n",
       "186477 -19.114136  66.477272  2015-01-21 01:00:00  777\n",
       "186478 -19.114136  66.477272  2015-01-21 02:00:00  777\n",
       "186479 -19.114136  66.477272  2015-01-21 03:00:00  777\n",
       "\n",
       "[186480 rows x 4 columns]"
      ]
     },
     "execution_count": 29,
     "metadata": {},
     "output_type": "execute_result"
    }
   ],
   "source": [
    "df_all_new"
   ]
  },
  {
   "cell_type": "code",
   "execution_count": 30,
   "id": "b1d35a72",
   "metadata": {},
   "outputs": [
    {
     "data": {
      "text/plain": [
       "5415"
      ]
     },
     "execution_count": 30,
     "metadata": {},
     "output_type": "execute_result"
    }
   ],
   "source": [
    "i"
   ]
  },
  {
   "cell_type": "code",
   "execution_count": null,
   "id": "29443c21",
   "metadata": {},
   "outputs": [],
   "source": []
  },
  {
   "cell_type": "code",
   "execution_count": null,
   "id": "eff6e3ca",
   "metadata": {},
   "outputs": [],
   "source": []
  },
  {
   "cell_type": "code",
   "execution_count": null,
   "id": "31ef5a4c",
   "metadata": {},
   "outputs": [],
   "source": []
  },
  {
   "cell_type": "code",
   "execution_count": null,
   "id": "7f3f7c5b",
   "metadata": {},
   "outputs": [],
   "source": []
  },
  {
   "cell_type": "code",
   "execution_count": null,
   "id": "b465f5c7",
   "metadata": {},
   "outputs": [],
   "source": []
  },
  {
   "cell_type": "code",
   "execution_count": null,
   "id": "2b62f1cf",
   "metadata": {},
   "outputs": [],
   "source": []
  },
  {
   "cell_type": "code",
   "execution_count": null,
   "id": "7b9a071c",
   "metadata": {},
   "outputs": [],
   "source": []
  },
  {
   "cell_type": "code",
   "execution_count": null,
   "id": "99f5c9e9",
   "metadata": {},
   "outputs": [],
   "source": []
  },
  {
   "cell_type": "code",
   "execution_count": null,
   "id": "bb1fca8c",
   "metadata": {},
   "outputs": [],
   "source": []
  },
  {
   "cell_type": "code",
   "execution_count": null,
   "id": "7a352338",
   "metadata": {},
   "outputs": [],
   "source": []
  },
  {
   "cell_type": "code",
   "execution_count": null,
   "id": "a697a39a",
   "metadata": {},
   "outputs": [],
   "source": [
    "# Save\n",
    "df_all.to_csv('df_forcing_2015.csv')"
   ]
  },
  {
   "cell_type": "code",
   "execution_count": null,
   "id": "94fa0710",
   "metadata": {},
   "outputs": [],
   "source": []
  },
  {
   "cell_type": "code",
   "execution_count": null,
   "id": "5195a9a7",
   "metadata": {},
   "outputs": [],
   "source": []
  },
  {
   "cell_type": "code",
   "execution_count": null,
   "id": "8e1a36b1",
   "metadata": {},
   "outputs": [],
   "source": []
  },
  {
   "cell_type": "code",
   "execution_count": null,
   "id": "e60d9797",
   "metadata": {},
   "outputs": [],
   "source": []
  },
  {
   "cell_type": "code",
   "execution_count": null,
   "id": "c0e5fc86",
   "metadata": {},
   "outputs": [],
   "source": []
  },
  {
   "cell_type": "code",
   "execution_count": null,
   "id": "28b06c98",
   "metadata": {},
   "outputs": [],
   "source": []
  },
  {
   "cell_type": "code",
   "execution_count": null,
   "id": "ee2b8256",
   "metadata": {},
   "outputs": [],
   "source": []
  },
  {
   "cell_type": "code",
   "execution_count": null,
   "id": "28efda65",
   "metadata": {},
   "outputs": [],
   "source": []
  },
  {
   "cell_type": "code",
   "execution_count": null,
   "id": "d20a2b3c",
   "metadata": {},
   "outputs": [],
   "source": []
  },
  {
   "cell_type": "code",
   "execution_count": null,
   "id": "5c70cda5",
   "metadata": {},
   "outputs": [],
   "source": []
  },
  {
   "cell_type": "code",
   "execution_count": null,
   "id": "51874c5e",
   "metadata": {},
   "outputs": [],
   "source": []
  },
  {
   "cell_type": "code",
   "execution_count": null,
   "id": "73d2f229",
   "metadata": {},
   "outputs": [],
   "source": []
  },
  {
   "cell_type": "code",
   "execution_count": null,
   "id": "e4ef4011",
   "metadata": {},
   "outputs": [],
   "source": []
  },
  {
   "cell_type": "code",
   "execution_count": null,
   "id": "6f2c6ea7",
   "metadata": {},
   "outputs": [],
   "source": []
  },
  {
   "cell_type": "code",
   "execution_count": null,
   "id": "7f3b34e1",
   "metadata": {},
   "outputs": [],
   "source": []
  },
  {
   "cell_type": "code",
   "execution_count": null,
   "id": "542df020",
   "metadata": {},
   "outputs": [],
   "source": []
  }
 ],
 "metadata": {
  "kernelspec": {
   "display_name": "Python 3",
   "language": "python",
   "name": "python3"
  },
  "language_info": {
   "codemirror_mode": {
    "name": "ipython",
    "version": 3
   },
   "file_extension": ".py",
   "mimetype": "text/x-python",
   "name": "python",
   "nbconvert_exporter": "python",
   "pygments_lexer": "ipython3",
   "version": "3.8.8"
  }
 },
 "nbformat": 4,
 "nbformat_minor": 5
}
