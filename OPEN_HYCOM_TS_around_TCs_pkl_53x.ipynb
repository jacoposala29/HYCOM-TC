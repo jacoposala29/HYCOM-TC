{
 "cells": [
  {
   "cell_type": "code",
   "execution_count": 1,
   "id": "9f2757f4",
   "metadata": {},
   "outputs": [],
   "source": [
    "import xarray as xr\n",
    "import csv\n",
    "import pandas as pd\n",
    "import numpy as np\n",
    "import os\n",
    "import pickle as pkl\n",
    "from datetime import datetime, date, timedelta\n",
    "import sys\n",
    "import matplotlib.pyplot as plt\n",
    "import netCDF4 as nc\n",
    "import glob"
   ]
  },
  {
   "cell_type": "code",
   "execution_count": 2,
   "id": "6688b272",
   "metadata": {},
   "outputs": [],
   "source": [
    "# Open daily files with HYCOM near TCs"
   ]
  },
  {
   "cell_type": "code",
   "execution_count": 3,
   "id": "ad473849",
   "metadata": {},
   "outputs": [],
   "source": [
    "# define start and end years, and other parameters\n",
    "# start_year = 2017\n",
    "# end_year = 2017\n",
    "var_names_download = ['temp', 'salt']\n",
    "var_names = ['temperature', 'salinity']\n",
    "HYCOM_dir = '/Users/jacoposala/Desktop/CU/3.RESEARCH/ARGO_analysis/TC_HYCOM/DATA/HYCOM_near_TC_53x_pkl_Aug21/'\n",
    "# HYCOM_dir = '/Users/jacoposala/Desktop/CU/3.RESEARCH/ARGO_analysis/TC_HYCOM/DATA/HYCOM_near_TC_pkl_min20_plus20/'\n",
    "\n",
    "tag_file = 'HYCOM_53X'\n",
    "\n",
    "wind_threshold = 32.9244\n",
    "precip_treshold = 0.0025"
   ]
  },
  {
   "cell_type": "code",
   "execution_count": 4,
   "id": "ee861cde",
   "metadata": {},
   "outputs": [],
   "source": [
    "# # Test - open a single one\n",
    "# f = '/Users/jacoposala/Desktop/CU/3.RESEARCH/ARGO_analysis/TC_HYCOM/DATA/HYCOM_near_TC_pkl/HYCOM_GBLa0.08_2009-01-01.pkl'\n",
    "# ciao = pkl.load(open(f, \"rb\"))\n",
    "# ciao"
   ]
  },
  {
   "cell_type": "code",
   "execution_count": 5,
   "id": "e095c03e",
   "metadata": {},
   "outputs": [],
   "source": [
    "# List all files\n",
    "files = [i for i in sorted(glob.glob(HYCOM_dir + 'HYCOM_*.pkl'))]\n",
    "# Open and concatenate all files into a single xarray.Dataset\n",
    "new_dict = xr.concat([pkl.load(open(f, \"rb\"))for f in files ], \"index\")\n",
    "# Reset index \n",
    "new_dict['index'] = np.arange(0,new_dict.index.shape[0])\n"
   ]
  },
  {
   "cell_type": "code",
   "execution_count": 6,
   "id": "f50626b3",
   "metadata": {},
   "outputs": [],
   "source": [
    "# Salinity at day -5, needed as the classification will be based on this variable\n",
    "salinity_day_minus5 = new_dict.isel(delta_time = 0).salinity # index 5 corresponds to day -5"
   ]
  },
  {
   "cell_type": "code",
   "execution_count": 7,
   "id": "4f9c6796",
   "metadata": {},
   "outputs": [],
   "source": [
    "# # Determine percentage of profile depth levels where the variable value is larger than at the surface\n",
    "# # Comparing each pressure levels with the one at the surface, then calculating the difference \n",
    "# # between each profile depth and the surface one:\n",
    "# # if >75% of the profiles have a positive difference -> increasing\n",
    "# # otherwise -> decreasing\n",
    "# perc_points_increasing_s = np.zeros(len(new_dict.index))\n",
    "# perc_points_decreasing_s = np.zeros(len(new_dict.index))\n",
    "# perc_points_same_s = np.zeros(len(new_dict.index))"
   ]
  },
  {
   "cell_type": "code",
   "execution_count": 8,
   "id": "f1f35d4a",
   "metadata": {},
   "outputs": [],
   "source": [
    "# Find depth\n",
    "dz_increasing = np.zeros(len(new_dict.index))\n",
    "dz_decreasing = np.zeros(len(new_dict.index))\n",
    "dz_dsame = np.zeros(len(new_dict.index))\n",
    "\n",
    "dz = np.array([2,2,2,2,2,2.5,4,5,5,5,5,5,5,7.5,10,10,10,10,17.5,25,37.5,50,50,50,50,50,25]) # spessore per ogni livello di pressione\n",
    "dz_star = dz[1:]\n",
    "# Calculate increasing vs decreasing total meters\n",
    "for i in np.arange(0,len(new_dict.index)):\n",
    "    dz_increasing[i] = sum(dz[(salinity_day_minus5[1:,i].values-salinity_day_minus5[0,i].values)>0])\n",
    "    dz_decreasing[i] = sum(dz[(salinity_day_minus5[1:,i].values-salinity_day_minus5[0,i].values)<0])\n",
    "    dz_dsame[i] = sum(dz[(salinity_day_minus5[1:,i].values-salinity_day_minus5[0,i].values)==0])\n",
    "    "
   ]
  },
  {
   "cell_type": "code",
   "execution_count": 9,
   "id": "ad085d55",
   "metadata": {},
   "outputs": [],
   "source": [
    "# Create a DFS with increasing, decreasing, all\n",
    "# se dz_increasing > dz_decreasing -> increasing; \n",
    "# altrimenti viceversa\n",
    "\n",
    "\n",
    "DFS = [(new_dict.where((dz_increasing > dz_decreasing) & (new_dict.wind >= wind_threshold), drop = True), 'increasing_hurr_s'),\n",
    "       (new_dict.where((dz_decreasing > dz_increasing) & (new_dict.wind >= wind_threshold), drop = True), 'decreasing_hurr_s'),\n",
    "       (new_dict.where((dz_decreasing == dz_increasing) & (new_dict.wind >= wind_threshold), drop = True), 'same_hurr_s'),\n",
    "       (new_dict.where(new_dict.wind >= wind_threshold, drop = True), 'all_hurr_s'),\n",
    "       (new_dict.where((dz_increasing > dz_decreasing) & (new_dict.wind >= wind_threshold) & (new_dict.precipitation >= precip_treshold), drop = True), 'increasing_hurr_s_precip_ge'), # precipitation greater equal\n",
    "       (new_dict.where((dz_decreasing > dz_increasing) & (new_dict.wind >= wind_threshold) & (new_dict.precipitation >= precip_treshold), drop = True), 'decreasing_hurr_s_precip_ge'),\n",
    "       (new_dict.where((dz_increasing > dz_decreasing) & (new_dict.wind >= wind_threshold) & (new_dict.precipitation < precip_treshold), drop = True), 'increasing_hurr_s_precip_lt'), # precipitation less than\n",
    "       (new_dict.where((dz_decreasing > dz_increasing) & (new_dict.wind >= wind_threshold) & (new_dict.precipitation < precip_treshold), drop = True), 'decreasing_hurr_s_precip_lt')      \n",
    "      ]\n",
    "\n",
    "\n",
    "\n"
   ]
  },
  {
   "cell_type": "code",
   "execution_count": 10,
   "id": "1f8c17cc",
   "metadata": {},
   "outputs": [
    {
     "name": "stdout",
     "output_type": "stream",
     "text": [
      "(4026,)\n",
      "(43841,)\n",
      "(48242,)\n",
      "(375,)\n",
      "(23879,)\n",
      "(2139,)\n",
      "(19962,)\n",
      "(1887,)\n"
     ]
    }
   ],
   "source": [
    "# Distinguish arrays for each of the three cases (inc, dec, combined)\n",
    "decreasing_hurr = DFS[1][0]#.iloc[:,3:].reset_index()\n",
    "increasing_hurr = DFS[0][0]#.iloc[:,3:].reset_index()\n",
    "all_hurr = DFS[3][0]#.iloc[:,3:].reset_index()\n",
    "same_hurr = DFS[2][0]\n",
    "increasing_hurr_s_precip_ge = DFS[4][0]\n",
    "decreasing_hurr_s_precip_ge = DFS[5][0]\n",
    "increasing_hurr_s_precip_lt = DFS[6][0]\n",
    "decreasing_hurr_s_precip_lt = DFS[7][0]\n",
    "\n",
    "print(np.shape(decreasing_hurr.index))\n",
    "print(np.shape(increasing_hurr.index))\n",
    "print(np.shape(all_hurr.index))\n",
    "print(np.shape(same_hurr.index))\n",
    "print(np.shape(increasing_hurr_s_precip_ge.index))\n",
    "print(np.shape(decreasing_hurr_s_precip_ge.index))\n",
    "print(np.shape(increasing_hurr_s_precip_lt.index))\n",
    "print(np.shape(decreasing_hurr_s_precip_lt.index))"
   ]
  },
  {
   "cell_type": "code",
   "execution_count": null,
   "id": "903e94f1",
   "metadata": {},
   "outputs": [],
   "source": [
    "# Create function that calculates the number of profile pairs that "
   ]
  },
  {
   "cell_type": "code",
   "execution_count": null,
   "id": "99a0ee29",
   "metadata": {},
   "outputs": [],
   "source": [
    "# # Classify \"profiles\" based on day -5 salinity\n",
    "# for i in np.arange(0,len(new_dict.index)):\n",
    "#             # Separates increasing and decreasing profile pairs    \n",
    "#     perc_points_increasing_s[i] = (sum((salinity_day_minus5[:,i]\n",
    "#                                       -salinity_day_minus5[0,i])>0)\n",
    "#                                  /len(salinity_day_minus5[:,i])*100)\n",
    "#     perc_points_decreasing_s[i] = (sum((salinity_day_minus5[:,i]\n",
    "#                                       -salinity_day_minus5[0,i])<0)\n",
    "#                                  /len(salinity_day_minus5[:,i])*100)\n",
    "#     perc_points_same_s[i] = (sum((salinity_day_minus5[:,i]\n",
    "#                                       -salinity_day_minus5[0,i])==0)\n",
    "#                                  /len(salinity_day_minus5[:,i])*100)\n",
    "#     # E.g., 'Increasing' = profiles where at least 75% of the depth levels have VAR values higher than at the surface"
   ]
  },
  {
   "cell_type": "code",
   "execution_count": null,
   "id": "1159535c",
   "metadata": {},
   "outputs": [],
   "source": [
    "# # Create a DFS with increasing, decreasing, all\n",
    "# DFS = [(new_dict.where((perc_points_decreasing_s > 40) & (new_dict.wind >= 64), drop = True), 'decreasing_hurr_s'),\n",
    "#        (new_dict.where((perc_points_increasing_s > 40) & (new_dict.wind >= 64), drop = True), 'increasing_hurr_s'),\n",
    "#        (new_dict.where(new_dict.wind >= 64, drop = True), 'all_hurr_s')]\n",
    "\n",
    "# # Save DFS\n",
    "# #pkl.dump(DFS, open('DFS_HYCOM.pkl', 'wb'))\n"
   ]
  },
  {
   "cell_type": "code",
   "execution_count": null,
   "id": "32c53c97",
   "metadata": {},
   "outputs": [],
   "source": []
  },
  {
   "cell_type": "code",
   "execution_count": null,
   "id": "a70f8f74",
   "metadata": {},
   "outputs": [],
   "source": [
    "# # Distinguish arrays for each of the three cases (inc, dec, combined)\n",
    "# decreasing_hurr = DFS[0][0]#.iloc[:,3:].reset_index()\n",
    "# increasing_hurr = DFS[1][0]#.iloc[:,3:].reset_index()\n",
    "# all_hurr = DFS[2][0]#.iloc[:,3:].reset_index()"
   ]
  },
  {
   "cell_type": "code",
   "execution_count": null,
   "id": "ee271b09",
   "metadata": {},
   "outputs": [],
   "source": [
    "# decreasing_hurr"
   ]
  },
  {
   "cell_type": "code",
   "execution_count": null,
   "id": "aa69b673",
   "metadata": {},
   "outputs": [],
   "source": [
    "# increasing_hurr"
   ]
  },
  {
   "cell_type": "code",
   "execution_count": null,
   "id": "5bd02e5d",
   "metadata": {},
   "outputs": [],
   "source": [
    "# all_hurr"
   ]
  },
  {
   "cell_type": "code",
   "execution_count": 11,
   "id": "b7e42785",
   "metadata": {},
   "outputs": [],
   "source": [
    "# timestep_list = [-20, -15, -12 ,-10, -7, -5, -2, 0, 2, 5, 7, 10, 12, 15, 20]\n",
    "timestep_list = [-5, -2, 0, 2, 5]\n",
    "\n",
    "# Dictionaries to store temperature/salinity data at the various timestamps\n",
    "variable_names = ['increasing_hurr', 'decreasing_hurr', 'increasing_hurr_s_precip_ge',\\\n",
    "                 'decreasing_hurr_s_precip_ge', 'increasing_hurr_s_precip_lt', 'decreasing_hurr_s_precip_lt']\n",
    "ts_names = ['temperature', 'salinity']\n",
    "\n",
    "for i in variable_names:\n",
    "    for j in ts_names:\n",
    "        exec(i + \"_\" + j[0] + \" = {}\")\n",
    "        for i_day in np.arange(len(timestep_list)):\n",
    "            exec(i + \"_\" + j[0] + \"[timestep_list[i_day]] = \" + i + \".isel(delta_time = i_day).\" + j)\n",
    "               \n",
    "        "
   ]
  },
  {
   "cell_type": "code",
   "execution_count": null,
   "id": "88d38469",
   "metadata": {},
   "outputs": [],
   "source": []
  },
  {
   "cell_type": "code",
   "execution_count": 12,
   "id": "3e7d94ad",
   "metadata": {},
   "outputs": [],
   "source": [
    "def hist_plot(sel_difference, depth_index, variable, case, day_earlier, day_later):\n",
    "    fig, ax = plt.subplots()#(figsize = (6,4))\n",
    "    plt.hist(sel_difference.values[depth_index,:], bins=np.arange(-1,1,.05))\n",
    "    plt.vlines(x=0, ymin=0, ymax=max(ax.get_ylim()), colors='k') # ax.get_ylim()\n",
    "    plt.title(case + ' ' + variable + ' diff day ' + str(day_later) + ' and day ' + str(day_earlier) + ' at depth level ' + str(depth_index), fontsize = 12)\n",
    "    plt.xlabel(variable + ' difference', fontsize = 12)\n",
    "    plt.ylabel('Count', fontsize = 12)\n",
    "\n",
    "    print(\"Median =\", np.nanmedian(sel_difference.values[depth_index,:]))\n",
    "    print(\"Mean =\", np.nanmean(sel_difference.values[depth_index,:]))\n",
    "    print(\"St dev =\", np.std(sel_difference.values[depth_index,:]))\n",
    "    \n",
    "    "
   ]
  },
  {
   "cell_type": "code",
   "execution_count": 20,
   "id": "735b2b79",
   "metadata": {},
   "outputs": [],
   "source": [
    "# Select the desired case to plot\n",
    "depth_index = 10 # indexes correspond to depths: 0, 10, 20, 30, 50, 75, 100, 125, 150, 200 m\n",
    "# variable = 's' # s (salinity) or t (temperature)\n",
    "# case = 'increasing_hurr'\n",
    "day_earlier = -5\n",
    "day_later = 5\n",
    "ts_names_plot = ['salinity']"
   ]
  },
  {
   "cell_type": "code",
   "execution_count": 21,
   "id": "c38dfbd1",
   "metadata": {
    "scrolled": false
   },
   "outputs": [
    {
     "name": "stdout",
     "output_type": "stream",
     "text": [
      "Median = 0.04080529741770178\n",
      "Mean = 0.04150358997108569\n",
      "St dev = nan\n",
      "Median = -0.036009140990127975\n",
      "Mean = -0.041901986323868594\n",
      "St dev = nan\n",
      "Median = 0.03879414959137506\n",
      "Mean = 0.040257776100670634\n",
      "St dev = nan\n",
      "Median = -0.04663048354061061\n",
      "Mean = -0.052895527901043814\n",
      "St dev = nan\n",
      "Median = 0.0431474156795133\n",
      "Mean = 0.04299466698180893\n",
      "St dev = nan\n",
      "Median = -0.0250520614776768\n",
      "Mean = -0.029337938807096915\n",
      "St dev = nan\n"
     ]
    },
    {
     "data": {
      "image/png": "[encoded data removed]",
      "text/plain": [
       "<Figure size 432x288 with 1 Axes>"
      ]
     },
     "metadata": {
      "needs_background": "light"
     },
     "output_type": "display_data"
    },
    {
     "data": {
      "image/png": "[encoded data removed]",
      "text/plain": [
       "<Figure size 432x288 with 1 Axes>"
      ]
     },
     "metadata": {
      "needs_background": "light"
     },
     "output_type": "display_data"
    },
    {
     "data": {
      "image/png": "[encoded data removed]",
      "text/plain": [
       "<Figure size 432x288 with 1 Axes>"
      ]
     },
     "metadata": {
      "needs_background": "light"
     },
     "output_type": "display_data"
    },
    {
     "data": {
      "image/png": "[encoded data removed]",
      "text/plain": [
       "<Figure size 432x288 with 1 Axes>"
      ]
     },
     "metadata": {
      "needs_background": "light"
     },
     "output_type": "display_data"
    },
    {
     "data": {
      "image/png": "[encoded data removed]",
      "text/plain": [
       "<Figure size 432x288 with 1 Axes>"
      ]
     },
     "metadata": {
      "needs_background": "light"
     },
     "output_type": "display_data"
    },
    {
     "data": {
      "image/png": "[encoded data removed]",
      "text/plain": [
       "<Figure size 432x288 with 1 Axes>"
      ]
     },
     "metadata": {
      "needs_background": "light"
     },
     "output_type": "display_data"
    }
   ],
   "source": [
    "for i in variable_names:\n",
    "    for j in ts_names_plot:\n",
    "        exec(\"bfr =\" + i + \"_\" + j[0])\n",
    "        hist_plot(sel_difference = bfr[day_later] - bfr[day_earlier], depth_index = depth_index, \\\n",
    "                  variable = j[0], case = i, day_earlier = day_earlier, day_later = day_later)\n",
    "        \n",
    "        \n",
    "        "
   ]
  },
  {
   "cell_type": "code",
   "execution_count": 15,
   "id": "00de7fa0",
   "metadata": {},
   "outputs": [
    {
     "ename": "NameError",
     "evalue": "name 'variable' is not defined",
     "output_type": "error",
     "traceback": [
      "\u001b[0;31m---------------------------------------------------------------------------\u001b[0m",
      "\u001b[0;31mNameError\u001b[0m                                 Traceback (most recent call last)",
      "Input \u001b[0;32mIn [15]\u001b[0m, in \u001b[0;36m<cell line: 2>\u001b[0;34m()\u001b[0m\n\u001b[1;32m      1\u001b[0m \u001b[38;5;66;03m# Calculate the selected difference\u001b[39;00m\n\u001b[0;32m----> 2\u001b[0m sel_difference \u001b[38;5;241m=\u001b[39m \u001b[38;5;28meval\u001b[39m(\u001b[43mvariable\u001b[49m \u001b[38;5;241m+\u001b[39m \u001b[38;5;124m\"\u001b[39m\u001b[38;5;124m_sel_days_\u001b[39m\u001b[38;5;124m\"\u001b[39m \u001b[38;5;241m+\u001b[39m case)[day_later] \u001b[38;5;241m-\u001b[39m \u001b[38;5;28meval\u001b[39m(variable \u001b[38;5;241m+\u001b[39m \u001b[38;5;124m\"\u001b[39m\u001b[38;5;124m_sel_days_\u001b[39m\u001b[38;5;124m\"\u001b[39m \u001b[38;5;241m+\u001b[39m case)[day_earlier]\n",
      "\u001b[0;31mNameError\u001b[0m: name 'variable' is not defined"
     ]
    }
   ],
   "source": [
    "# # Calculate the selected difference\n",
    "# sel_difference = eval(variable + \"_sel_days_\" + case)[day_later] - eval(variable + \"_sel_days_\" + case)[day_earlier]\n"
   ]
  },
  {
   "cell_type": "code",
   "execution_count": null,
   "id": "8a539ffa",
   "metadata": {},
   "outputs": [],
   "source": [
    "# Histogram for selected differences\n",
    "plt.figure(figsize = (6,4))\n",
    "plt.hist(sel_difference.values[depth_index,:], bins=np.arange(-1,1,.05))\n",
    "plt.vlines(x=0, ymin=0, ymax=120, colors='k')\n",
    "plt.title('Diff day ' + str(day_later) + ' and day ' + str(day_earlier) + ' at depth level ' + str(depth_index), fontsize = 12)\n",
    "plt.xlabel(variable + ' difference', fontsize = 12)\n",
    "plt.ylabel('Count', fontsize = 12)\n",
    "\n",
    "print(\"Median =\", np.nanmedian(sel_difference.values[depth_index,:]))\n",
    "print(\"Mean =\", np.nanmean(sel_difference.values[depth_index,:]))\n",
    "print(\"St dev =\", np.std(sel_difference.values[depth_index,:]))\n",
    "\n"
   ]
  },
  {
   "cell_type": "code",
   "execution_count": null,
   "id": "0a42397b",
   "metadata": {},
   "outputs": [],
   "source": [
    "# Now plot the mean difference vs depth\n",
    "\n",
    "# Again, select the desired case\n",
    "variable = 'salinity'\n",
    "case = 'increasing'\n",
    "day_earlier = -5\n",
    "day_later = 5\n",
    "\n",
    "# Calculate the mean difference at each depth\n",
    "sel_difference = eval(variable + \"_sel_days_\" + case)[day_later] - eval(variable + \"_sel_days_\" + case)[day_earlier]\n",
    "mean_diff_z = np.zeros(new_dict.depth.shape[0])\n",
    "for depth_index in np.arange(new_dict.depth.shape[0]):\n",
    "    mean_diff_z[depth_index] = np.nanmean(sel_difference.values[depth_index,:])\n",
    "\n",
    "\n",
    "depth = new_dict.depth\n",
    "# Plot of mean difference with depth\n",
    "plt.figure(figsize = (6,6))\n",
    "plt.plot(mean_diff_z,depth)\n",
    "plt.vlines(x=0, ymin=0, ymax=500, colors='k', linewidth = 1, linestyle = '--')\n",
    "plt.xlabel('Mean ' + variable + ' change', fontsize = 12)\n",
    "plt.ylabel('Depth [m]', fontsize = 12)\n",
    "plt.gca().invert_yaxis()\n",
    "plt.title('Mean difference between day ' + str(day_later) + ' and day ' + str(day_earlier), fontsize = 12)"
   ]
  },
  {
   "cell_type": "code",
   "execution_count": null,
   "id": "a585ab01",
   "metadata": {},
   "outputs": [],
   "source": []
  },
  {
   "cell_type": "code",
   "execution_count": null,
   "id": "222d7738",
   "metadata": {},
   "outputs": [],
   "source": []
  },
  {
   "cell_type": "code",
   "execution_count": null,
   "id": "e6e60cad",
   "metadata": {},
   "outputs": [],
   "source": []
  },
  {
   "cell_type": "code",
   "execution_count": null,
   "id": "dda00706",
   "metadata": {},
   "outputs": [],
   "source": []
  },
  {
   "cell_type": "code",
   "execution_count": null,
   "id": "ecb208eb",
   "metadata": {},
   "outputs": [],
   "source": []
  },
  {
   "cell_type": "code",
   "execution_count": null,
   "id": "9f435e11",
   "metadata": {},
   "outputs": [],
   "source": []
  },
  {
   "cell_type": "code",
   "execution_count": null,
   "id": "cf94871c",
   "metadata": {},
   "outputs": [],
   "source": []
  },
  {
   "cell_type": "code",
   "execution_count": null,
   "id": "1f4b94c5",
   "metadata": {},
   "outputs": [],
   "source": []
  },
  {
   "cell_type": "code",
   "execution_count": null,
   "id": "8444dec6",
   "metadata": {},
   "outputs": [],
   "source": []
  },
  {
   "cell_type": "code",
   "execution_count": null,
   "id": "1fc68226",
   "metadata": {},
   "outputs": [],
   "source": []
  },
  {
   "cell_type": "code",
   "execution_count": null,
   "id": "bc64af93",
   "metadata": {},
   "outputs": [],
   "source": []
  },
  {
   "cell_type": "code",
   "execution_count": null,
   "id": "ba6a49b8",
   "metadata": {},
   "outputs": [],
   "source": [
    "# BELOW NEEDS TO BE UPDATED TO WORK WITH NEW VARIABLE STRUCTURE"
   ]
  },
  {
   "cell_type": "code",
   "execution_count": null,
   "id": "235fadf3",
   "metadata": {},
   "outputs": [],
   "source": [
    "# Plot examples for single events - salinity case\n",
    "sel_event = 232\n",
    "\n",
    "plt.figure(figsize = (6,6))\n",
    "plt.plot(salinity_day_minus5_inc.values[:,sel_event],salinity_day_minus5_inc.depth.values, label = 'Day -5')\n",
    "plt.plot(salinity_day_0_inc.values[:,sel_event],salinity_day_minus5_inc.depth.values, label = 'Day 0')\n",
    "plt.plot(salinity_day_plus5_inc.values[:,sel_event],salinity_day_minus5_inc.depth.values, label = 'Day +5')\n",
    "plt.xlabel('Salinity (psu)', fontsize = 12)\n",
    "plt.ylabel('Depth [m]', fontsize = 12)\n",
    "plt.gca().invert_yaxis()\n",
    "plt.legend(fontsize = 12)"
   ]
  },
  {
   "cell_type": "code",
   "execution_count": null,
   "id": "9ddde042",
   "metadata": {},
   "outputs": [],
   "source": [
    "# Plot examples for single events - temperature case\n",
    "sel_event = 232\n",
    "\n",
    "plt.figure(figsize = (6,6))\n",
    "plt.plot(temperature_day_minus5_inc.values[:,sel_event],temperature_day_minus5_inc.depth.values, label = 'Day -5')\n",
    "plt.plot(temperature_day_0_inc.values[:,sel_event],temperature_day_minus5_inc.depth.values, label = 'Day 0')\n",
    "plt.plot(temperature_day_plus5_inc.values[:,sel_event],temperature_day_minus5_inc.depth.values, label = 'Day +5')\n",
    "plt.xlabel('Temperature (deg C)', fontsize = 12)\n",
    "plt.ylabel('Depth [m]', fontsize = 12)\n",
    "plt.gca().invert_yaxis()\n",
    "plt.legend(fontsize = 12)"
   ]
  },
  {
   "cell_type": "code",
   "execution_count": null,
   "id": "b6836b04",
   "metadata": {},
   "outputs": [],
   "source": [
    "salinity_avg_minus5_inc = salinity_day_minus5_inc.mean(dim='index')\n",
    "salinity_avg_0_inc = salinity_day_0_inc.mean(dim='index')\n",
    "salinity_avg_plus5_inc = salinity_day_plus5_inc.mean(dim='index')\n",
    "salinity_avg_minus5_dec = salinity_day_minus5_dec.mean(dim='index')\n",
    "salinity_avg_0_dec = salinity_day_0_dec.mean(dim='index')\n",
    "salinity_avg_plus5_dec = salinity_day_plus5_dec.mean(dim='index')"
   ]
  },
  {
   "cell_type": "code",
   "execution_count": null,
   "id": "038c334a",
   "metadata": {},
   "outputs": [],
   "source": [
    "temperature_avg_minus5_inc = temperature_day_minus5_inc.mean(dim='index')\n",
    "temperature_avg_0_inc = temperature_day_0_inc.mean(dim='index')\n",
    "temperature_avg_plus5_inc = temperature_day_plus5_inc.mean(dim='index')\n",
    "temperature_avg_minus5_dec = temperature_day_minus5_dec.mean(dim='index')\n",
    "temperature_avg_0_dec = temperature_day_0_dec.mean(dim='index')\n",
    "temperature_avg_plus5_dec = temperature_day_plus5_dec.mean(dim='index')"
   ]
  },
  {
   "cell_type": "code",
   "execution_count": null,
   "id": "9bdb2d46",
   "metadata": {},
   "outputs": [],
   "source": [
    "# Plot average salinity values at -5, 0 and 5 days\n",
    "plt.figure(figsize = (15,6))\n",
    "plt.plot(salinity_avg_plus5_inc,temperature_day_minus5_inc.depth.values, label = 'avg S @ Day -5')\n",
    "plt.plot(salinity_avg_minus5_inc,temperature_day_minus5_inc.depth.values, label = 'avg S @ Day 0')\n",
    "plt.plot(salinity_avg_0_inc,temperature_day_minus5_inc.depth.values, label = 'avg S @ Day +5')\n",
    "plt.xlabel('Salinity (psu)', fontsize = 12)\n",
    "plt.ylabel('Depth [m]', fontsize = 12)\n",
    "plt.gca().invert_yaxis()\n",
    "plt.legend(fontsize = 12)\n",
    "\n"
   ]
  },
  {
   "cell_type": "code",
   "execution_count": null,
   "id": "ce679323",
   "metadata": {},
   "outputs": [],
   "source": [
    "# Plot average temperature values at -5, 0 and 5 days\n",
    "plt.figure(figsize = (15,6))\n",
    "plt.plot(temperature_avg_plus5_inc,temperature_day_minus5_inc.depth.values, label = 'avg S @ Day -5')\n",
    "plt.plot(temperature_avg_minus5_inc,temperature_day_minus5_inc.depth.values, label = 'avg S @ Day 0')\n",
    "plt.plot(temperature_avg_0_inc,temperature_day_minus5_inc.depth.values, label = 'avg S @ Day +5')\n",
    "plt.xlabel('Temperature (deg C)', fontsize = 12)\n",
    "plt.ylabel('Depth [m]', fontsize = 12)\n",
    "plt.gca().invert_yaxis()\n",
    "plt.legend(fontsize = 12)"
   ]
  },
  {
   "cell_type": "code",
   "execution_count": null,
   "id": "29c8f452",
   "metadata": {},
   "outputs": [],
   "source": []
  },
  {
   "cell_type": "code",
   "execution_count": null,
   "id": "5c399734",
   "metadata": {},
   "outputs": [],
   "source": []
  },
  {
   "cell_type": "code",
   "execution_count": null,
   "id": "89ea16ad",
   "metadata": {},
   "outputs": [],
   "source": []
  },
  {
   "cell_type": "code",
   "execution_count": null,
   "id": "966904e7",
   "metadata": {},
   "outputs": [],
   "source": []
  },
  {
   "cell_type": "code",
   "execution_count": null,
   "id": "93ea9784",
   "metadata": {},
   "outputs": [],
   "source": []
  },
  {
   "cell_type": "code",
   "execution_count": null,
   "id": "82eaec3e",
   "metadata": {},
   "outputs": [],
   "source": []
  },
  {
   "cell_type": "code",
   "execution_count": null,
   "id": "6b67633c",
   "metadata": {},
   "outputs": [],
   "source": []
  },
  {
   "cell_type": "code",
   "execution_count": null,
   "id": "3f3e6af1",
   "metadata": {},
   "outputs": [],
   "source": []
  },
  {
   "cell_type": "code",
   "execution_count": null,
   "id": "8e690e28",
   "metadata": {},
   "outputs": [],
   "source": []
  },
  {
   "cell_type": "code",
   "execution_count": null,
   "id": "c846bae2",
   "metadata": {},
   "outputs": [],
   "source": []
  },
  {
   "cell_type": "code",
   "execution_count": null,
   "id": "70c3e9e5",
   "metadata": {},
   "outputs": [],
   "source": []
  }
 ],
 "metadata": {
  "kernelspec": {
   "display_name": "Python (eccov4_py)",
   "language": "python",
   "name": "eccov4_py"
  },
  "language_info": {
   "codemirror_mode": {
    "name": "ipython",
    "version": 3
   },
   "file_extension": ".py",
   "mimetype": "text/x-python",
   "name": "python",
   "nbconvert_exporter": "python",
   "pygments_lexer": "ipython3",
   "version": "3.8.13"
  }
 },
 "nbformat": 4,
 "nbformat_minor": 5
}
