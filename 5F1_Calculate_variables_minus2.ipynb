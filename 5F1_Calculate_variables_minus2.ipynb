{
 "cells": [
  {
   "cell_type": "code",
   "execution_count": 1,
   "id": "8995c5be",
   "metadata": {},
   "outputs": [],
   "source": [
    "import xarray as xr\n",
    "import numpy as np\n",
    "import pandas as pd\n"
   ]
  },
  {
   "cell_type": "code",
   "execution_count": 2,
   "id": "36222efe",
   "metadata": {},
   "outputs": [],
   "source": [
    "# Open the NetCDF file\n",
    "file_path = \"//Users/jacoposala/Desktop/CU/3.RESEARCH/ARGO_analysis/TC_HYCOM/scripf_for_downloading_forcing_files_CURC/combined_regions_with_rel_hum.nc4\"\n",
    "ds = xr.open_dataset(file_path)"
   ]
  },
  {
   "cell_type": "code",
   "execution_count": 3,
   "id": "42d79035",
   "metadata": {
    "scrolled": true
   },
   "outputs": [],
   "source": [
    "# Define the time delta for -2 days\n",
    "delta_time_minus2_value = np.timedelta64(-2, 'D')\n",
    "\n",
    "# Extract the values at delta_time = -2 days\n",
    "delta_time_minus2 = ds.sel(delta_time=delta_time_minus2_value)"
   ]
  },
  {
   "cell_type": "code",
   "execution_count": 4,
   "id": "b246893f",
   "metadata": {},
   "outputs": [],
   "source": [
    "\n",
    "# Recalculate the *_minus2 variables\n",
    "ds['density_abs_minus2'] = ds['density_abs'] - delta_time_minus2['density_abs']\n",
    "ds['temperature_abs_minus2'] = ds['temperature_abs'] - delta_time_minus2['temperature_abs']\n",
    "ds['salinity_abs_minus2'] = ds['salinity_abs'] - delta_time_minus2['salinity_abs']\n",
    "\n",
    "# Perform similar recalculations for the anomaly variables\n",
    "ds['density_anom_minus2'] = ds['density_anom'] - delta_time_minus2['density_anom']\n",
    "ds['temperature_anom_minus2'] = ds['temperature_anom'] - delta_time_minus2['temperature_anom']\n",
    "ds['salinity_anom_minus2'] = ds['salinity_anom'] - delta_time_minus2['salinity_anom']\n",
    "\n",
    "# Perform similar recalculations for the MLD variables\n",
    "ds['densityMLD_minus2'] = ds['densityMLD_abs'] - delta_time_minus2['densityMLD_abs']\n",
    "ds['tempMLD_minus2'] = ds['tempMLD_abs'] - delta_time_minus2['tempMLD_abs']\n",
    "ds['salinityMLD_minus2'] = ds['salinityMLD_abs'] - delta_time_minus2['salinityMLD_abs']\n"
   ]
  },
  {
   "cell_type": "code",
   "execution_count": 5,
   "id": "811b69ad",
   "metadata": {},
   "outputs": [],
   "source": [
    "# Save the modified dataset to a new NetCDF file\n",
    "output_file_path = \"combined_region_with_rel_hum_minus2corrected.nc\"\n",
    "ds.to_netcdf(output_file_path)"
   ]
  },
  {
   "cell_type": "code",
   "execution_count": null,
   "id": "c936ce4f",
   "metadata": {},
   "outputs": [],
   "source": []
  }
 ],
 "metadata": {
  "kernelspec": {
   "display_name": "Python 3",
   "language": "python",
   "name": "python3"
  },
  "language_info": {
   "codemirror_mode": {
    "name": "ipython",
    "version": 3
   },
   "file_extension": ".py",
   "mimetype": "text/x-python",
   "name": "python",
   "nbconvert_exporter": "python",
   "pygments_lexer": "ipython3",
   "version": "3.8.8"
  }
 },
 "nbformat": 4,
 "nbformat_minor": 5
}
