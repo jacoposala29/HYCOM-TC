{
 "cells": [
  {
   "cell_type": "code",
   "execution_count": 1,
   "id": "ccf101fd",
   "metadata": {},
   "outputs": [],
   "source": [
    "import xarray as xr\n",
    "import csv\n",
    "import pandas as pd\n",
    "import numpy as np\n",
    "import os\n",
    "import pickle as pkl\n",
    "from datetime import datetime, date, timedelta\n",
    "import sys\n",
    "import matplotlib.pyplot as plt\n",
    "import netCDF4 as nc\n",
    "import glob\n",
    "from matplotlib.pyplot import figure\n",
    "from mpl_toolkits.axes_grid1 import make_axes_locatable\n",
    "import matplotlib.colors as mcolors\n",
    "from numpy import trapz\n",
    "import pickle"
   ]
  },
  {
   "cell_type": "code",
   "execution_count": 2,
   "id": "6197f238",
   "metadata": {},
   "outputs": [],
   "source": [
    "import gsw"
   ]
  },
  {
   "cell_type": "code",
   "execution_count": 3,
   "id": "aeadb0e7",
   "metadata": {},
   "outputs": [],
   "source": [
    "# Define parameters\n",
    "# define start and end years\n",
    "start_year = 2011 # 2009\n",
    "end_year = 2015 # 2018\n",
    "\n",
    "# Box for Philippines and West Pacific\n",
    "lat_max = 30\n",
    "lat_min = 0\n",
    "lon_max = 160\n",
    "lon_min = 120\n",
    "folder_tag = 'WPacific'\n",
    "\n",
    "# Box for Baja California - East Pacific\n",
    "# lat_max = 30\n",
    "# lat_min = 0\n",
    "# lon_max = -100\n",
    "# lon_min = -150\n",
    "# folder_tag = 'California'\n",
    "\n",
    "# Box for Florida - West Atlantic\n",
    "# lat_max = 30\n",
    "# lat_min = 20\n",
    "# lon_max = -55\n",
    "# lon_min = -80\n",
    "# folder_tag = 'Florida'\n",
    "\n",
    "years = ['2011', '2012', '2013', '2014', '2015']\n",
    "var_names_download = ['temp', 'salt']\n",
    "var_names = ['temperature', 'salinity']\n",
    "HYCOM_dir = '/Users/jacoposala/Desktop/CU/3.RESEARCH/ARGO_analysis/TC_HYCOM/DATA/HYCOM_near_TC_53x_pkl_postproc_' + folder_tag + '/'\n",
    "forcing_dir = '/Users/jacoposala/Desktop/CU/3.RESEARCH/ARGO_analysis/TC_HYCOM/DATA/FORCING_alltimes_singleevents/'\n",
    "\n",
    "tag_file = 'HYCOM_53X'\n",
    "\n",
    "wind_threshold = 32.9244\n",
    "precip_treshold = 0.0025\n",
    "\n",
    "max_depth_index_sel = 22\n",
    "\n"
   ]
  },
  {
   "cell_type": "code",
   "execution_count": 4,
   "id": "fb36ddd1",
   "metadata": {},
   "outputs": [],
   "source": [
    "# add DENSITY as a variable: absolute, anomalies and diff with -2 days"
   ]
  },
  {
   "cell_type": "code",
   "execution_count": 17,
   "id": "c1d459cf",
   "metadata": {},
   "outputs": [],
   "source": [
    "# List of post-processed HYCOM files (one for each event in the region)\n",
    "files = [j for j in sorted(glob.glob(HYCOM_dir + '*.pkl'))]\n",
    "# Load first to initialize variables that will store them all\n",
    "new_dict = pkl.load(open(files[1], \"rb\"))\n",
    "temperature_abs_all = np.zeros((112,new_dict.temperature_abs.shape[1],len(files)))\n",
    "salinity_abs_all = np.zeros((112,new_dict.salinity_abs.shape[1],len(files)))\n",
    "temperature_anom_all = np.zeros((112,new_dict.temperature_anom.shape[1],len(files)))\n",
    "salinity_anom_all = np.zeros((112,new_dict.salinity_anom.shape[1],len(files)))\n",
    "temperature_abs_minus2_all = np.zeros((112,new_dict.temperature_abs_minus2.shape[1],len(files)))\n",
    "salinity_abs_minus2_all = np.zeros((112,new_dict.salinity_abs_minus2.shape[1],len(files)))\n",
    "integral_precip_all = np.zeros(len(files))"
   ]
  },
  {
   "cell_type": "code",
   "execution_count": null,
   "id": "84344fd7",
   "metadata": {},
   "outputs": [],
   "source": []
  },
  {
   "cell_type": "code",
   "execution_count": null,
   "id": "61941b3e",
   "metadata": {},
   "outputs": [],
   "source": []
  },
  {
   "cell_type": "code",
   "execution_count": null,
   "id": "60864bec",
   "metadata": {},
   "outputs": [],
   "source": [
    "# DENSITY"
   ]
  },
  {
   "cell_type": "code",
   "execution_count": 60,
   "id": "b4fcab74",
   "metadata": {},
   "outputs": [],
   "source": [
    "salinity_absolute = new_dict.salinity_abs.values\n",
    "temperature_abs = new_dict.temperature_abs.values"
   ]
  },
  {
   "cell_type": "code",
   "execution_count": 66,
   "id": "f2934ac4",
   "metadata": {},
   "outputs": [
    {
     "name": "stdout",
     "output_type": "stream",
     "text": [
      "Help on function rho in module gsw._wrapped_ufuncs:\n",
      "\n",
      "rho(SA, CT, p)\n",
      "    Calculates in-situ density from Absolute Salinity and Conservative\n",
      "    Temperature, using the computationally-efficient expression for\n",
      "    specific volume in terms of SA, CT and p  (Roquet et al., 2015).\n",
      "    \n",
      "    Parameters\n",
      "    ----------\n",
      "    SA : array-like\n",
      "        Absolute Salinity, g/kg\n",
      "    CT : array-like\n",
      "        Conservative Temperature (ITS-90), degrees C\n",
      "    p : array-like\n",
      "        Sea pressure (absolute pressure minus 10.1325 dbar), dbar\n",
      "    \n",
      "    Returns\n",
      "    -------\n",
      "    rho : array-like, kg/m\n",
      "        in-situ density\n",
      "\n"
     ]
    }
   ],
   "source": [
    "# Calculate density (rho) from temperature, salinity and pressure using gsw.density (TEOS-10 Python Package)\n",
    "# This function returns in-situ Density in kg/m\n",
    "help (gsw.density)\n",
    "\n",
    "# Salinity conversion: remember that salinity from HYCOM is expressed in PSU (practical salinity units). 1 PSU = 1e-3 g/kg (=10-3 g/kg) \n",
    "\n"
   ]
  },
  {
   "cell_type": "code",
   "execution_count": null,
   "id": "45fe0603",
   "metadata": {},
   "outputs": [],
   "source": [
    "# USE gsw.density.sigma0 INSTEAD OF gsw.density.rho\n",
    "# CALCULATE absolute salinity and conservative temperature"
   ]
  },
  {
   "cell_type": "code",
   "execution_count": null,
   "id": "838c4dfd",
   "metadata": {},
   "outputs": [],
   "source": [
    "    # Calculate pressure from depth using gsw.p_from_z (TEOS-10 Python Package)\n",
    "    # This fucntion returns Absolute Pressure in dbar\n",
    "    # help(gsw.p_from_z)\n",
    "    \n",
    "    pressure = gsw.p_from_z(-new_dict.depth.values, float(new_dict.latitude.values))\n",
    "#     print(pressure)\n",
    "\n",
    "    # Calculate density using gsw.density.rho (TEOS-10 Python Package)\n",
    "    # This fucntion returns density in kg/m3\n",
    "    # help(gsw.density.rho)\n",
    "    density_abs = gsw.density.rho(salinity_abs_period, temperature_abs_period, pressure)\n",
    "#     print(density_abs)"
   ]
  },
  {
   "cell_type": "code",
   "execution_count": null,
   "id": "3066fccd",
   "metadata": {},
   "outputs": [],
   "source": []
  },
  {
   "cell_type": "code",
   "execution_count": null,
   "id": "18720f68",
   "metadata": {},
   "outputs": [],
   "source": []
  },
  {
   "cell_type": "code",
   "execution_count": null,
   "id": "45dad521",
   "metadata": {},
   "outputs": [],
   "source": []
  },
  {
   "cell_type": "code",
   "execution_count": null,
   "id": "424f8cf6",
   "metadata": {},
   "outputs": [],
   "source": []
  },
  {
   "cell_type": "code",
   "execution_count": null,
   "id": "50c300b6",
   "metadata": {},
   "outputs": [],
   "source": []
  },
  {
   "cell_type": "code",
   "execution_count": null,
   "id": "e623d4c8",
   "metadata": {},
   "outputs": [],
   "source": []
  },
  {
   "cell_type": "code",
   "execution_count": null,
   "id": "e099db8d",
   "metadata": {},
   "outputs": [],
   "source": []
  },
  {
   "cell_type": "code",
   "execution_count": null,
   "id": "9d30451f",
   "metadata": {},
   "outputs": [],
   "source": []
  },
  {
   "cell_type": "code",
   "execution_count": null,
   "id": "57fc4087",
   "metadata": {},
   "outputs": [],
   "source": []
  },
  {
   "cell_type": "code",
   "execution_count": null,
   "id": "c5affc70",
   "metadata": {},
   "outputs": [],
   "source": []
  }
 ],
 "metadata": {
  "kernelspec": {
   "display_name": "Python 3",
   "language": "python",
   "name": "python3"
  },
  "language_info": {
   "codemirror_mode": {
    "name": "ipython",
    "version": 3
   },
   "file_extension": ".py",
   "mimetype": "text/x-python",
   "name": "python",
   "nbconvert_exporter": "python",
   "pygments_lexer": "ipython3",
   "version": "3.8.8"
  }
 },
 "nbformat": 4,
 "nbformat_minor": 5
}
