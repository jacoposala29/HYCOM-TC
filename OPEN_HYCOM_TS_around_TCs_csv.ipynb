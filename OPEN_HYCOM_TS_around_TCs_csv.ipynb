{
 "cells": [
  {
   "cell_type": "code",
   "execution_count": 84,
   "id": "9f2757f4",
   "metadata": {},
   "outputs": [],
   "source": [
    "import xarray as xr\n",
    "import csv\n",
    "import pandas as pd\n",
    "import numpy as np\n",
    "import os\n",
    "import pickle as pkl\n",
    "from datetime import datetime, date, timedelta\n",
    "import sys\n",
    "import matplotlib.pyplot as plt\n",
    "import netCDF4 as nc\n",
    "import glob"
   ]
  },
  {
   "cell_type": "code",
   "execution_count": 85,
   "id": "6688b272",
   "metadata": {},
   "outputs": [],
   "source": [
    "# Open daily files with HYCOM near TCs"
   ]
  },
  {
   "cell_type": "code",
   "execution_count": 86,
   "id": "ad473849",
   "metadata": {},
   "outputs": [],
   "source": [
    "# define start and end years\n",
    "start_year = 2017\n",
    "end_year = 2017\n",
    "var_names_download = ['temp', 'salt']\n",
    "var_names = ['temperature', 'salinity']\n",
    "HYCOM_dir = '/Users/jacoposala/Desktop/CU/3.RESEARCH/ARGO_analysis/TC_HYCOM/DATA'\n",
    "tag_file = 'HYCOM_GBLa0.08'"
   ]
  },
  {
   "cell_type": "code",
   "execution_count": 87,
   "id": "71538d87",
   "metadata": {},
   "outputs": [],
   "source": [
    "all_filenames = [i for i in sorted(glob.glob(HYCOM_dir + '/HYCOM_near_TC_csv/HYCOM_*.csv'))]"
   ]
  },
  {
   "cell_type": "code",
   "execution_count": 88,
   "id": "f18ec180",
   "metadata": {},
   "outputs": [],
   "source": [
    "#combine all files in the list\n",
    "combined_csv = pd.concat([pd.read_csv(f) for f in all_filenames ]).reset_index(drop=True)\n",
    "#export to csv\n",
    "combined_csv.to_csv(\"combined_csv.csv\", index=False)"
   ]
  },
  {
   "cell_type": "code",
   "execution_count": 89,
   "id": "1b21e1ba",
   "metadata": {},
   "outputs": [
    {
     "data": {
      "text/html": [
       "<div>\n",
       "<style scoped>\n",
       "    .dataframe tbody tr th:only-of-type {\n",
       "        vertical-align: middle;\n",
       "    }\n",
       "\n",
       "    .dataframe tbody tr th {\n",
       "        vertical-align: top;\n",
       "    }\n",
       "\n",
       "    .dataframe thead th {\n",
       "        text-align: right;\n",
       "    }\n",
       "</style>\n",
       "<table border=\"1\" class=\"dataframe\">\n",
       "  <thead>\n",
       "    <tr style=\"text-align: right;\">\n",
       "      <th></th>\n",
       "      <th>level_0</th>\n",
       "      <th>index</th>\n",
       "      <th>Unnamed: 0</th>\n",
       "      <th>ID</th>\n",
       "      <th>DATE</th>\n",
       "      <th>LAT</th>\n",
       "      <th>LONG</th>\n",
       "      <th>WIND</th>\n",
       "      <th>SEASON</th>\n",
       "      <th>TIMESTAMP</th>\n",
       "      <th>DATETIME</th>\n",
       "      <th>day_-5_temperature</th>\n",
       "      <th>day_-5_salinity</th>\n",
       "      <th>day_0_temperature</th>\n",
       "      <th>day_0_salinity</th>\n",
       "      <th>day_5_temperature</th>\n",
       "      <th>day_5_salinity</th>\n",
       "    </tr>\n",
       "  </thead>\n",
       "  <tbody>\n",
       "    <tr>\n",
       "      <th>0</th>\n",
       "      <td>0</td>\n",
       "      <td>82735</td>\n",
       "      <td>85</td>\n",
       "      <td>SH052009</td>\n",
       "      <td>2009-01-01</td>\n",
       "      <td>-15.2</td>\n",
       "      <td>102.5</td>\n",
       "      <td>20</td>\n",
       "      <td>2009</td>\n",
       "      <td>2009-01-01 00:00:00</td>\n",
       "      <td>2009-01-01</td>\n",
       "      <td>[[25.77219229115001, 25.68911482150752, 25.690...</td>\n",
       "      <td>[[34.695750197656864, 34.69674817931624, 34.69...</td>\n",
       "      <td>[[25.471457815734468, 25.479258881260375, 25.4...</td>\n",
       "      <td>[[34.706208050065555, 34.70466291697181, 34.70...</td>\n",
       "      <td>[[26.702815864505904, 26.692473662878168, 26.5...</td>\n",
       "      <td>[[34.64425334914832, 34.641249382639174, 34.63...</td>\n",
       "    </tr>\n",
       "    <tr>\n",
       "      <th>1</th>\n",
       "      <td>4</td>\n",
       "      <td>82739</td>\n",
       "      <td>89</td>\n",
       "      <td>SH052009</td>\n",
       "      <td>2009-01-02</td>\n",
       "      <td>-14.3</td>\n",
       "      <td>98.2</td>\n",
       "      <td>20</td>\n",
       "      <td>2009</td>\n",
       "      <td>2009-01-02 00:00:00</td>\n",
       "      <td>2009-01-02</td>\n",
       "      <td>[[25.720795427348776, 25.65684231261942, 25.43...</td>\n",
       "      <td>[[34.729280904776026, 34.729686589274735, 34.7...</td>\n",
       "      <td>[[25.103147772333077, 25.10798710489034, 25.09...</td>\n",
       "      <td>[[34.752681080684916, 34.75611555085159, 34.76...</td>\n",
       "      <td>[[26.836166385636837, 26.71648084752731, 26.61...</td>\n",
       "      <td>[[34.658408258817566, 34.65868124820109, 34.66...</td>\n",
       "    </tr>\n",
       "    <tr>\n",
       "      <th>2</th>\n",
       "      <td>8</td>\n",
       "      <td>82743</td>\n",
       "      <td>93</td>\n",
       "      <td>SH052009</td>\n",
       "      <td>2009-01-03</td>\n",
       "      <td>-13.0</td>\n",
       "      <td>93.1</td>\n",
       "      <td>20</td>\n",
       "      <td>2009</td>\n",
       "      <td>2009-01-03 00:00:00</td>\n",
       "      <td>2009-01-03</td>\n",
       "      <td>[[27.12306090726876, 27.116787816570103, 27.09...</td>\n",
       "      <td>[[34.36490671983248, 34.3638352409002, 34.3645...</td>\n",
       "      <td>[[27.650588040558308, 27.55130602723857, 27.36...</td>\n",
       "      <td>[[34.312505210416546, 34.326590235978266, 34.3...</td>\n",
       "      <td>[[28.17950963784714, 28.099391742819304, 27.94...</td>\n",
       "      <td>[[34.33620734478894, 34.340806528379716, 34.37...</td>\n",
       "    </tr>\n",
       "    <tr>\n",
       "      <th>3</th>\n",
       "      <td>12</td>\n",
       "      <td>82747</td>\n",
       "      <td>97</td>\n",
       "      <td>SH052009</td>\n",
       "      <td>2009-01-04</td>\n",
       "      <td>-12.4</td>\n",
       "      <td>89.0</td>\n",
       "      <td>15</td>\n",
       "      <td>2009</td>\n",
       "      <td>2009-01-04 00:00:00</td>\n",
       "      <td>2009-01-04</td>\n",
       "      <td>[[27.537904763419775, 27.384599537651514, 27.2...</td>\n",
       "      <td>[[34.389627425705164, 34.389008095107855, 34.3...</td>\n",
       "      <td>[[27.164870895263856, 27.0769646961093, 26.950...</td>\n",
       "      <td>[[34.34592004459027, 34.34790796794245, 34.355...</td>\n",
       "      <td>[[28.582714902484845, 28.49978797159265, 28.28...</td>\n",
       "      <td>[[34.430031601467554, 34.432105998797866, 34.4...</td>\n",
       "    </tr>\n",
       "    <tr>\n",
       "      <th>4</th>\n",
       "      <td>13</td>\n",
       "      <td>86646</td>\n",
       "      <td>0</td>\n",
       "      <td>SH062009</td>\n",
       "      <td>2009-01-08</td>\n",
       "      <td>-14.1</td>\n",
       "      <td>70.7</td>\n",
       "      <td>25</td>\n",
       "      <td>2009</td>\n",
       "      <td>2009-01-08 06:00:00</td>\n",
       "      <td>2009-01-08 06:00:00</td>\n",
       "      <td>[[28.196575749839948, 28.123557950917846, 27.8...</td>\n",
       "      <td>[[34.68584934694732, 34.687948527136285, 34.66...</td>\n",
       "      <td>[[28.33211686786636, 28.263277826744684, 28.15...</td>\n",
       "      <td>[[34.68044234105975, 34.68440632577182, 34.701...</td>\n",
       "      <td>[[27.375581001036153, 27.365573627533895, 27.3...</td>\n",
       "      <td>[[34.585491289603254, 34.584162471360436, 34.5...</td>\n",
       "    </tr>\n",
       "    <tr>\n",
       "      <th>...</th>\n",
       "      <td>...</td>\n",
       "      <td>...</td>\n",
       "      <td>...</td>\n",
       "      <td>...</td>\n",
       "      <td>...</td>\n",
       "      <td>...</td>\n",
       "      <td>...</td>\n",
       "      <td>...</td>\n",
       "      <td>...</td>\n",
       "      <td>...</td>\n",
       "      <td>...</td>\n",
       "      <td>...</td>\n",
       "      <td>...</td>\n",
       "      <td>...</td>\n",
       "      <td>...</td>\n",
       "      <td>...</td>\n",
       "      <td>...</td>\n",
       "    </tr>\n",
       "    <tr>\n",
       "      <th>7078</th>\n",
       "      <td>3257</td>\n",
       "      <td>107525</td>\n",
       "      <td>17</td>\n",
       "      <td>WP322018</td>\n",
       "      <td>2018-11-21</td>\n",
       "      <td>7.6</td>\n",
       "      <td>100.3</td>\n",
       "      <td>20</td>\n",
       "      <td>2018</td>\n",
       "      <td>2018-11-21 00:00:00</td>\n",
       "      <td>2018-11-21</td>\n",
       "      <td>[nan, nan, nan, nan, nan, nan, nan, nan, nan, ...</td>\n",
       "      <td>[nan, nan, nan, nan, nan, nan, nan, nan, nan, ...</td>\n",
       "      <td>[nan, nan, nan, nan, nan, nan, nan, nan, nan, ...</td>\n",
       "      <td>[nan, nan, nan, nan, nan, nan, nan, nan, nan, ...</td>\n",
       "      <td>[nan, nan, nan, nan, nan, nan, nan, nan, nan, ...</td>\n",
       "      <td>[nan, nan, nan, nan, nan, nan, nan, nan, nan, ...</td>\n",
       "    </tr>\n",
       "    <tr>\n",
       "      <th>7079</th>\n",
       "      <td>3258</td>\n",
       "      <td>98553</td>\n",
       "      <td>3</td>\n",
       "      <td>WP342018</td>\n",
       "      <td>2018-11-21</td>\n",
       "      <td>6.8</td>\n",
       "      <td>150.8</td>\n",
       "      <td>40</td>\n",
       "      <td>2018</td>\n",
       "      <td>2018-11-21 00:00:00</td>\n",
       "      <td>2018-11-21</td>\n",
       "      <td>[[28.74495787489569, 28.43971056867546, 28.277...</td>\n",
       "      <td>[[33.495352223704444, 33.533447317171415, 33.6...</td>\n",
       "      <td>[[29.030424823825694, 28.889703636622805, 28.8...</td>\n",
       "      <td>[[34.09327551150364, 34.10504083552677, 34.125...</td>\n",
       "      <td>[[28.730091196888555, 28.641137925187213, 28.6...</td>\n",
       "      <td>[[34.1093534127462, 34.10740837047891, 34.1072...</td>\n",
       "    </tr>\n",
       "    <tr>\n",
       "      <th>7080</th>\n",
       "      <td>3259</td>\n",
       "      <td>86938</td>\n",
       "      <td>52</td>\n",
       "      <td>SH042018</td>\n",
       "      <td>2018-11-21</td>\n",
       "      <td>-15.8</td>\n",
       "      <td>76.5</td>\n",
       "      <td>20</td>\n",
       "      <td>2018</td>\n",
       "      <td>2018-11-21 00:00:00</td>\n",
       "      <td>2018-11-21</td>\n",
       "      <td>[[25.9303968389401, 25.948041717905557, 25.941...</td>\n",
       "      <td>[[34.94394214470643, 34.94435722856674, 34.945...</td>\n",
       "      <td>[[26.19612172457461, 26.195348649003215, 26.17...</td>\n",
       "      <td>[[34.903721273476314, 34.90604857333095, 34.90...</td>\n",
       "      <td>[[26.863835373212993, 26.883250711360652, 26.8...</td>\n",
       "      <td>[[34.91780222406734, 34.917201632249395, 34.91...</td>\n",
       "    </tr>\n",
       "    <tr>\n",
       "      <th>7081</th>\n",
       "      <td>3266</td>\n",
       "      <td>98557</td>\n",
       "      <td>11</td>\n",
       "      <td>WP342018</td>\n",
       "      <td>2018-11-22</td>\n",
       "      <td>10.6</td>\n",
       "      <td>141.8</td>\n",
       "      <td>80</td>\n",
       "      <td>2018</td>\n",
       "      <td>2018-11-22 00:00:00</td>\n",
       "      <td>2018-11-22</td>\n",
       "      <td>[[28.95148537435177, 28.919665962405208, 28.84...</td>\n",
       "      <td>[[34.02652396732579, 34.04122082199501, 34.073...</td>\n",
       "      <td>[[28.784136642075442, 28.78463978459778, 28.77...</td>\n",
       "      <td>[[34.19296980237488, 34.193261480223626, 34.19...</td>\n",
       "      <td>[[28.579388110855366, 28.579865625931024, 28.5...</td>\n",
       "      <td>[[34.35213452350496, 34.359151279845015, 34.36...</td>\n",
       "    </tr>\n",
       "    <tr>\n",
       "      <th>7082</th>\n",
       "      <td>3267</td>\n",
       "      <td>104727</td>\n",
       "      <td>60</td>\n",
       "      <td>WP332018</td>\n",
       "      <td>2018-11-22</td>\n",
       "      <td>11.2</td>\n",
       "      <td>117.3</td>\n",
       "      <td>35</td>\n",
       "      <td>2018</td>\n",
       "      <td>2018-11-22 00:00:00</td>\n",
       "      <td>2018-11-22</td>\n",
       "      <td>[[28.54222194575944, 28.528918652303375, 28.43...</td>\n",
       "      <td>[[33.76636805118696, 33.78131536101761, 33.791...</td>\n",
       "      <td>[[28.19819877463955, 28.210794947982677, 28.21...</td>\n",
       "      <td>[[33.84089126656999, 33.85431777157283, 33.856...</td>\n",
       "      <td>[[27.50810510245013, 27.516314295125, 27.51777...</td>\n",
       "      <td>[[33.97937380791266, 33.985308637687545, 33.98...</td>\n",
       "    </tr>\n",
       "  </tbody>\n",
       "</table>\n",
       "<p>7083 rows × 17 columns</p>\n",
       "</div>"
      ],
      "text/plain": [
       "      level_0   index  Unnamed: 0        ID        DATE   LAT   LONG  WIND  \\\n",
       "0           0   82735          85  SH052009  2009-01-01 -15.2  102.5    20   \n",
       "1           4   82739          89  SH052009  2009-01-02 -14.3   98.2    20   \n",
       "2           8   82743          93  SH052009  2009-01-03 -13.0   93.1    20   \n",
       "3          12   82747          97  SH052009  2009-01-04 -12.4   89.0    15   \n",
       "4          13   86646           0  SH062009  2009-01-08 -14.1   70.7    25   \n",
       "...       ...     ...         ...       ...         ...   ...    ...   ...   \n",
       "7078     3257  107525          17  WP322018  2018-11-21   7.6  100.3    20   \n",
       "7079     3258   98553           3  WP342018  2018-11-21   6.8  150.8    40   \n",
       "7080     3259   86938          52  SH042018  2018-11-21 -15.8   76.5    20   \n",
       "7081     3266   98557          11  WP342018  2018-11-22  10.6  141.8    80   \n",
       "7082     3267  104727          60  WP332018  2018-11-22  11.2  117.3    35   \n",
       "\n",
       "      SEASON            TIMESTAMP             DATETIME  \\\n",
       "0       2009  2009-01-01 00:00:00           2009-01-01   \n",
       "1       2009  2009-01-02 00:00:00           2009-01-02   \n",
       "2       2009  2009-01-03 00:00:00           2009-01-03   \n",
       "3       2009  2009-01-04 00:00:00           2009-01-04   \n",
       "4       2009  2009-01-08 06:00:00  2009-01-08 06:00:00   \n",
       "...      ...                  ...                  ...   \n",
       "7078    2018  2018-11-21 00:00:00           2018-11-21   \n",
       "7079    2018  2018-11-21 00:00:00           2018-11-21   \n",
       "7080    2018  2018-11-21 00:00:00           2018-11-21   \n",
       "7081    2018  2018-11-22 00:00:00           2018-11-22   \n",
       "7082    2018  2018-11-22 00:00:00           2018-11-22   \n",
       "\n",
       "                                     day_-5_temperature  \\\n",
       "0     [[25.77219229115001, 25.68911482150752, 25.690...   \n",
       "1     [[25.720795427348776, 25.65684231261942, 25.43...   \n",
       "2     [[27.12306090726876, 27.116787816570103, 27.09...   \n",
       "3     [[27.537904763419775, 27.384599537651514, 27.2...   \n",
       "4     [[28.196575749839948, 28.123557950917846, 27.8...   \n",
       "...                                                 ...   \n",
       "7078  [nan, nan, nan, nan, nan, nan, nan, nan, nan, ...   \n",
       "7079  [[28.74495787489569, 28.43971056867546, 28.277...   \n",
       "7080  [[25.9303968389401, 25.948041717905557, 25.941...   \n",
       "7081  [[28.95148537435177, 28.919665962405208, 28.84...   \n",
       "7082  [[28.54222194575944, 28.528918652303375, 28.43...   \n",
       "\n",
       "                                        day_-5_salinity  \\\n",
       "0     [[34.695750197656864, 34.69674817931624, 34.69...   \n",
       "1     [[34.729280904776026, 34.729686589274735, 34.7...   \n",
       "2     [[34.36490671983248, 34.3638352409002, 34.3645...   \n",
       "3     [[34.389627425705164, 34.389008095107855, 34.3...   \n",
       "4     [[34.68584934694732, 34.687948527136285, 34.66...   \n",
       "...                                                 ...   \n",
       "7078  [nan, nan, nan, nan, nan, nan, nan, nan, nan, ...   \n",
       "7079  [[33.495352223704444, 33.533447317171415, 33.6...   \n",
       "7080  [[34.94394214470643, 34.94435722856674, 34.945...   \n",
       "7081  [[34.02652396732579, 34.04122082199501, 34.073...   \n",
       "7082  [[33.76636805118696, 33.78131536101761, 33.791...   \n",
       "\n",
       "                                      day_0_temperature  \\\n",
       "0     [[25.471457815734468, 25.479258881260375, 25.4...   \n",
       "1     [[25.103147772333077, 25.10798710489034, 25.09...   \n",
       "2     [[27.650588040558308, 27.55130602723857, 27.36...   \n",
       "3     [[27.164870895263856, 27.0769646961093, 26.950...   \n",
       "4     [[28.33211686786636, 28.263277826744684, 28.15...   \n",
       "...                                                 ...   \n",
       "7078  [nan, nan, nan, nan, nan, nan, nan, nan, nan, ...   \n",
       "7079  [[29.030424823825694, 28.889703636622805, 28.8...   \n",
       "7080  [[26.19612172457461, 26.195348649003215, 26.17...   \n",
       "7081  [[28.784136642075442, 28.78463978459778, 28.77...   \n",
       "7082  [[28.19819877463955, 28.210794947982677, 28.21...   \n",
       "\n",
       "                                         day_0_salinity  \\\n",
       "0     [[34.706208050065555, 34.70466291697181, 34.70...   \n",
       "1     [[34.752681080684916, 34.75611555085159, 34.76...   \n",
       "2     [[34.312505210416546, 34.326590235978266, 34.3...   \n",
       "3     [[34.34592004459027, 34.34790796794245, 34.355...   \n",
       "4     [[34.68044234105975, 34.68440632577182, 34.701...   \n",
       "...                                                 ...   \n",
       "7078  [nan, nan, nan, nan, nan, nan, nan, nan, nan, ...   \n",
       "7079  [[34.09327551150364, 34.10504083552677, 34.125...   \n",
       "7080  [[34.903721273476314, 34.90604857333095, 34.90...   \n",
       "7081  [[34.19296980237488, 34.193261480223626, 34.19...   \n",
       "7082  [[33.84089126656999, 33.85431777157283, 33.856...   \n",
       "\n",
       "                                      day_5_temperature  \\\n",
       "0     [[26.702815864505904, 26.692473662878168, 26.5...   \n",
       "1     [[26.836166385636837, 26.71648084752731, 26.61...   \n",
       "2     [[28.17950963784714, 28.099391742819304, 27.94...   \n",
       "3     [[28.582714902484845, 28.49978797159265, 28.28...   \n",
       "4     [[27.375581001036153, 27.365573627533895, 27.3...   \n",
       "...                                                 ...   \n",
       "7078  [nan, nan, nan, nan, nan, nan, nan, nan, nan, ...   \n",
       "7079  [[28.730091196888555, 28.641137925187213, 28.6...   \n",
       "7080  [[26.863835373212993, 26.883250711360652, 26.8...   \n",
       "7081  [[28.579388110855366, 28.579865625931024, 28.5...   \n",
       "7082  [[27.50810510245013, 27.516314295125, 27.51777...   \n",
       "\n",
       "                                         day_5_salinity  \n",
       "0     [[34.64425334914832, 34.641249382639174, 34.63...  \n",
       "1     [[34.658408258817566, 34.65868124820109, 34.66...  \n",
       "2     [[34.33620734478894, 34.340806528379716, 34.37...  \n",
       "3     [[34.430031601467554, 34.432105998797866, 34.4...  \n",
       "4     [[34.585491289603254, 34.584162471360436, 34.5...  \n",
       "...                                                 ...  \n",
       "7078  [nan, nan, nan, nan, nan, nan, nan, nan, nan, ...  \n",
       "7079  [[34.1093534127462, 34.10740837047891, 34.1072...  \n",
       "7080  [[34.91780222406734, 34.917201632249395, 34.91...  \n",
       "7081  [[34.35213452350496, 34.359151279845015, 34.36...  \n",
       "7082  [[33.97937380791266, 33.985308637687545, 33.98...  \n",
       "\n",
       "[7083 rows x 17 columns]"
      ]
     },
     "execution_count": 89,
     "metadata": {},
     "output_type": "execute_result"
    }
   ],
   "source": [
    "combined_csv # ADD LAT LONG HYCOM AND TIME FOR -5, 0 AND +5"
   ]
  },
  {
   "cell_type": "code",
   "execution_count": 90,
   "id": "a3693df4",
   "metadata": {},
   "outputs": [],
   "source": [
    "# xarray with depth, time, deltatime and profile number"
   ]
  },
  {
   "cell_type": "code",
   "execution_count": 12,
   "id": "9cfd213c",
   "metadata": {},
   "outputs": [],
   "source": [
    "z_hycom = [0., 10.,  20.,  30.,  50.,  75., 100., 125., 150., 200.]\n"
   ]
  },
  {
   "cell_type": "code",
   "execution_count": null,
   "id": "b4a43b44",
   "metadata": {},
   "outputs": [],
   "source": []
  },
  {
   "cell_type": "code",
   "execution_count": 34,
   "id": "cc0b943f",
   "metadata": {},
   "outputs": [],
   "source": [
    "test = pd.read_csv('/Users/jacoposala/Desktop/CU/3.RESEARCH/ARGO_analysis/TC_HYCOM/DATA/HYCOM_near_TC_csv/HYCOM_GBLa0.08_2014-01-17.csv')"
   ]
  },
  {
   "cell_type": "code",
   "execution_count": 35,
   "id": "e9050f08",
   "metadata": {},
   "outputs": [
    {
     "data": {
      "text/plain": [
       "'[[28.543184372931936, 28.444224522053123, 28.439991705981267, 28.42584311615551, 28.399616022908187, 26.93868491996147, 25.222388014249656, 23.178838066053004, 20.011571771974634, 14.94193924666588, 11.56210175112519]]'"
      ]
     },
     "execution_count": 35,
     "metadata": {},
     "output_type": "execute_result"
    }
   ],
   "source": [
    "test['day_5_temperature'][0]\n"
   ]
  },
  {
   "cell_type": "code",
   "execution_count": 39,
   "id": "4c43cc64",
   "metadata": {},
   "outputs": [
    {
     "data": {
      "text/plain": [
       "'28.543184372931936'"
      ]
     },
     "execution_count": 39,
     "metadata": {},
     "output_type": "execute_result"
    }
   ],
   "source": [
    "test['day_5_temperature'][0][2:20]"
   ]
  },
  {
   "cell_type": "code",
   "execution_count": null,
   "id": "2d7a0f56",
   "metadata": {},
   "outputs": [],
   "source": [
    "df_select = combined_csv[combined_csv['ID']=='SH182016']\n"
   ]
  },
  {
   "cell_type": "code",
   "execution_count": null,
   "id": "9dca322b",
   "metadata": {},
   "outputs": [],
   "source": [
    "df_select['day_5_temperature'][833]"
   ]
  },
  {
   "cell_type": "code",
   "execution_count": null,
   "id": "476e980b",
   "metadata": {},
   "outputs": [],
   "source": []
  },
  {
   "cell_type": "code",
   "execution_count": null,
   "id": "62ed2902",
   "metadata": {},
   "outputs": [],
   "source": [
    "test['day_5_temperature'][0]"
   ]
  },
  {
   "cell_type": "code",
   "execution_count": null,
   "id": "6e01d447",
   "metadata": {},
   "outputs": [],
   "source": [
    "eval(test['day_5_temperature'][0][1:-1])"
   ]
  },
  {
   "cell_type": "code",
   "execution_count": null,
   "id": "8cb8295b",
   "metadata": {},
   "outputs": [],
   "source": []
  },
  {
   "cell_type": "code",
   "execution_count": 91,
   "id": "a70f8f74",
   "metadata": {},
   "outputs": [],
   "source": [
    "# Salinity data for classification\n",
    "# Convert data columns to nicer numpy arrays\n",
    "salinity_day_minus5 = np.empty([combined_csv.shape[0],10])\n",
    "# Set everything to nans for now\n",
    "salinity_day_minus5[:] = np.nan\n",
    "\n",
    "# Populate\n",
    "for i in np.arange(combined_csv.shape[0]):\n",
    "    if combined_csv['day_-5_temperature'][i][-2] != 'n': # only save cases where data at ALL depths are available (this won't work otherwise...)\n",
    "        if np.array(list(map(float,list(combined_csv['day_-5_salinity'][i][2:-2].split(', '))))).shape[0] > 10: # keep only the first 10 depth levels\n",
    "            salinity_day_minus5[i,:] = np.array(list(map(float,list(combined_csv['day_-5_salinity'][i][2:-2].split(', ')))))[:-1] # remove [] and the 11th level\n",
    "        else:\n",
    "            salinity_day_minus5[i,:] = np.array(list(map(float,list(combined_csv['day_-5_salinity'][i][2:-2].split(', '))))) # remove [] \n"
   ]
  },
  {
   "cell_type": "code",
   "execution_count": 127,
   "id": "3743abf5",
   "metadata": {},
   "outputs": [
    {
     "data": {
      "text/plain": [
       "(7083, 10)"
      ]
     },
     "execution_count": 127,
     "metadata": {},
     "output_type": "execute_result"
    }
   ],
   "source": [
    "salinity_day_minus5.shape"
   ]
  },
  {
   "cell_type": "code",
   "execution_count": 114,
   "id": "f77ee42e",
   "metadata": {},
   "outputs": [
    {
     "data": {
      "text/plain": [
       "'33.76636805118696, 33.78131536101761, 33.791382291925856, 33.80144664486005, 33.82486033242853, 33.91727107020517, 34.05732587015265, 34.929899697450644, 34.922603999088714, nan, nan'"
      ]
     },
     "execution_count": 114,
     "metadata": {},
     "output_type": "execute_result"
    }
   ],
   "source": [
    "combined_csv['day_-5_salinity'][i][2:-2]"
   ]
  },
  {
   "cell_type": "code",
   "execution_count": 116,
   "id": "158d751d",
   "metadata": {},
   "outputs": [
    {
     "data": {
      "text/plain": [
       "['33.76636805118696',\n",
       " '33.78131536101761',\n",
       " '33.791382291925856',\n",
       " '33.80144664486005',\n",
       " '33.82486033242853',\n",
       " '33.91727107020517',\n",
       " '34.05732587015265',\n",
       " '34.929899697450644',\n",
       " '34.922603999088714',\n",
       " 'nan',\n",
       " 'nan']"
      ]
     },
     "execution_count": 116,
     "metadata": {},
     "output_type": "execute_result"
    }
   ],
   "source": [
    "combined_csv['day_-5_salinity'][i][2:-2].split(', ')"
   ]
  },
  {
   "cell_type": "code",
   "execution_count": 126,
   "id": "f4a03117",
   "metadata": {},
   "outputs": [
    {
     "data": {
      "text/plain": [
       "array([33.76636805, 33.78131536, 33.79138229, 33.80144664, 33.82486033,\n",
       "       33.91727107, 34.05732587, 34.9298997 , 34.922604  ,         nan,\n",
       "               nan])"
      ]
     },
     "execution_count": 126,
     "metadata": {},
     "output_type": "execute_result"
    }
   ],
   "source": [
    "np.array(list(map(float,list(combined_csv['day_-5_salinity'][i][2:-2].split(', ')))))"
   ]
  },
  {
   "cell_type": "code",
   "execution_count": null,
   "id": "4934d6fe",
   "metadata": {},
   "outputs": [],
   "source": []
  },
  {
   "cell_type": "code",
   "execution_count": 8,
   "id": "ac8a2b5e",
   "metadata": {},
   "outputs": [],
   "source": [
    "# STOP"
   ]
  },
  {
   "cell_type": "code",
   "execution_count": 9,
   "id": "4b928909",
   "metadata": {},
   "outputs": [],
   "source": [
    "# Determine percentage of profile depth levels where the variable value is larger than at the surface\n",
    "# Comparing each pressure levels with the one at the surface, then calculating the difference \n",
    "# between each profile depth and the surface one:\n",
    "# if >75% of the profiles have a positive difference -> increasing\n",
    "# otherwise -> decreasing\n",
    "perc_points_increasing_s = np.zeros(combined_csv.shape[0])\n",
    "perc_points_decreasing_s = np.zeros(combined_csv.shape[0])"
   ]
  },
  {
   "cell_type": "code",
   "execution_count": 10,
   "id": "a98d7b46",
   "metadata": {},
   "outputs": [],
   "source": [
    "# Classify \"profiles\" based on salinity\n",
    "for i in np.arange(0,combined_csv.shape[0]):\n",
    "    perc_points_increasing_s[i] = (sum((salinity_day_minus5[i]\n",
    "                                      -salinity_day_minus5[i][0])>0)\n",
    "                                 /len(salinity_day_minus5[i])*100)\n",
    "    perc_points_decreasing_s[i] = (sum((salinity_day_minus5[i]\n",
    "                                      -salinity_day_minus5[i][0])<0)\n",
    "                                 /len(salinity_day_minus5[i])*100)# Separates increasing and decreasing profile pairs    \n",
    "    # E.g., 'Increasing' = profiles where at least 75% of the depth levels \n",
    "    # have VAR values higher than at the surface"
   ]
  },
  {
   "cell_type": "code",
   "execution_count": 11,
   "id": "e8c66470",
   "metadata": {},
   "outputs": [],
   "source": [
    "# Create a DFS with increasing, decreasing, all\n",
    "DFS = [(combined_csv[(perc_points_decreasing_s > 75) & (combined_csv['WIND'] >= 64)], 'decreasing_hurricanes_s'),\n",
    "       (combined_csv[(perc_points_increasing_s > 75) & (combined_csv['WIND'] >= 64)], 'increasing_hurricanes_s'),\n",
    "       (combined_csv[combined_csv['WIND'] >= 64], 'all_hurricanes_s')]\n",
    "\n",
    "#pkl.dump(DFS, open('DFS_HYCOM.pkl', 'wb'))\n"
   ]
  },
  {
   "cell_type": "code",
   "execution_count": 12,
   "id": "1c0800c1",
   "metadata": {},
   "outputs": [],
   "source": [
    "# Distinguish arrays for each of the three cases (inc, dec, combined)\n",
    "decreasing_hurricanes = DFS[0][0].iloc[:,3:].reset_index()\n",
    "increasing_hurricanes = DFS[1][0].iloc[:,3:].reset_index()\n",
    "all_hurricanes = DFS[2][0].iloc[:,3:].reset_index()"
   ]
  },
  {
   "cell_type": "code",
   "execution_count": null,
   "id": "11e65eec",
   "metadata": {},
   "outputs": [],
   "source": [
    "increasing_hurricanes['day_-5_temperature']"
   ]
  },
  {
   "cell_type": "code",
   "execution_count": 30,
   "id": "acfacac2",
   "metadata": {},
   "outputs": [],
   "source": [
    "# Select data \n",
    "\n",
    "# Convert data columns to nicer numpy arrays - INCREASING\n",
    "temperature_day_minus5_inc = np.empty([increasing_hurricanes.shape[0],10])\n",
    "temperature_day_plus5_inc = np.empty([increasing_hurricanes.shape[0],10])\n",
    "temperature_day_0_inc = np.empty([increasing_hurricanes.shape[0],10])\n",
    "salinity_day_minus5_inc = np.empty([increasing_hurricanes.shape[0],10])\n",
    "salinity_day_plus5_inc = np.empty([increasing_hurricanes.shape[0],10])\n",
    "salinity_day_0_inc = np.empty([increasing_hurricanes.shape[0],10])\n",
    "# Set everything to nans for now\n",
    "temperature_day_minus5_inc[:] = np.nan\n",
    "temperature_day_plus5_inc[:] = np.nan\n",
    "temperature_day_0_inc[:] = np.nan\n",
    "salinity_day_minus5_inc[:] = np.nan\n",
    "salinity_day_plus5_inc[:] = np.nan\n",
    "salinity_day_0_inc[:] = np.nan\n",
    "\n",
    "# Populate\n",
    "for i in np.arange(increasing_hurricanes.shape[0]):\n",
    "    if combined_csv['day_-5_temperature'][i][-2] != 'n': # only save cases where data at ALL depths are available (this won't work otherwise...)\n",
    "        if np.array(list(map(float,list(increasing_hurricanes['day_-5_temperature'][i][2:-2].split(', '))))).shape[0] > 10:\n",
    "            temperature_day_minus5_inc[i,:] = np.array(list(map(float,list(increasing_hurricanes['day_-5_temperature'][i][2:-2].split(', ')))))[:-1]\n",
    "        else:\n",
    "            temperature_day_minus5_inc[i,:] = np.array(list(map(float,list(increasing_hurricanes['day_-5_temperature'][i][2:-2].split(', ')))))\n",
    "        \n",
    "        if np.array(list(map(float,list(increasing_hurricanes['day_0_temperature'][i][2:-2].split(', '))))).shape[0] > 10:\n",
    "            temperature_day_0_inc[i,:] = np.array(list(map(float,list(increasing_hurricanes['day_0_temperature'][i][2:-2].split(', ')))))[:-1]\n",
    "        else:\n",
    "            temperature_day_0_inc[i,:] = np.array(list(map(float,list(increasing_hurricanes['day_0_temperature'][i][2:-2].split(', ')))))\n",
    "        \n",
    "        if np.array(list(map(float,list(increasing_hurricanes['day_5_temperature'][i][2:-2].split(', '))))).shape[0] > 10:\n",
    "            temperature_day_plus5_inc[i,:] = np.array(list(map(float,list(increasing_hurricanes['day_5_temperature'][i][2:-2].split(', ')))))[:-1]\n",
    "        else:\n",
    "            temperature_day_plus5_inc[i,:] = np.array(list(map(float,list(increasing_hurricanes['day_5_temperature'][i][2:-2].split(', ')))))\n",
    "        \n",
    "        if np.array(list(map(float,list(increasing_hurricanes['day_-5_salinity'][i][2:-2].split(', '))))).shape[0] > 10:\n",
    "            salinity_day_minus5_inc[i,:] = np.array(list(map(float,list(increasing_hurricanes['day_-5_salinity'][i][2:-2].split(', ')))))[:-1]\n",
    "        else:\n",
    "            salinity_day_minus5_inc[i,:] = np.array(list(map(float,list(increasing_hurricanes['day_-5_salinity'][i][2:-2].split(', ')))))\n",
    "        \n",
    "        if np.array(list(map(float,list(increasing_hurricanes['day_0_salinity'][i][2:-2].split(', '))))).shape[0] > 10:\n",
    "            salinity_day_0_inc[i,:] = np.array(list(map(float,list(increasing_hurricanes['day_0_salinity'][i][2:-2].split(', ')))))[:-1]\n",
    "        else:\n",
    "            salinity_day_0_inc[i,:] = np.array(list(map(float,list(increasing_hurricanes['day_0_salinity'][i][2:-2].split(', ')))))            \n",
    "        \n",
    "        if np.array(list(map(float,list(increasing_hurricanes['day_5_salinity'][i][2:-2].split(', '))))).shape[0] > 10:\n",
    "            salinity_day_plus5_inc[i,:] = np.array(list(map(float,list(increasing_hurricanes['day_5_salinity'][i][2:-2].split(', ')))))[:-1]\n",
    "        else:\n",
    "            salinity_day_plus5_inc[i,:] = np.array(list(map(float,list(increasing_hurricanes['day_5_salinity'][i][2:-2].split(', ')))))\n",
    "\n",
    "        "
   ]
  },
  {
   "cell_type": "code",
   "execution_count": 31,
   "id": "eb46eaa0",
   "metadata": {},
   "outputs": [],
   "source": [
    "# Convert data columns to nicer numpy arrays - DECREASING\n",
    "temperature_day_minus5_dec = np.empty([decreasing_hurricanes.shape[0],11])\n",
    "temperature_day_plus5_dec = np.empty([decreasing_hurricanes.shape[0],11])\n",
    "temperature_day_0_dec = np.empty([decreasing_hurricanes.shape[0],11])\n",
    "salinity_day_minus5_dec = np.empty([decreasing_hurricanes.shape[0],11])\n",
    "salinity_day_plus5_dec = np.empty([decreasing_hurricanes.shape[0],11])\n",
    "salinity_day_0_dec = np.empty([decreasing_hurricanes.shape[0],11])\n",
    "# Set everything to nans for now\n",
    "temperature_day_minus5_dec[:] = np.nan\n",
    "temperature_day_plus5_dec[:] = np.nan\n",
    "temperature_day_0_dec[:] = np.nan\n",
    "salinity_day_minus5_dec[:] = np.nan\n",
    "salinity_day_plus5_dec[:] = np.nan\n",
    "salinity_day_0_dec[:] = np.nan\n",
    "\n",
    "# Populate\n",
    "for i in np.arange(decreasing_hurricanes.shape[0]):\n",
    "    if combined_csv['day_-5_temperature'][i][-2] != 'n': # only save cases where data at ALL depths are available (this won't work otherwise...)\n",
    "        if np.array(list(map(float,list(decreasing_hurricanes['day_-5_temperature'][i][2:-2].split(', '))))).shape[0] > 10:\n",
    "            temperature_day_minus5_inc[i,:] = np.array(list(map(float,list(decreasing_hurricanes['day_-5_temperature'][i][2:-2].split(', ')))))[:-1]\n",
    "        else:\n",
    "            temperature_day_minus5_inc[i,:] = np.array(list(map(float,list(decreasing_hurricanes['day_-5_temperature'][i][2:-2].split(', ')))))\n",
    "        \n",
    "        if np.array(list(map(float,list(decreasing_hurricanes['day_0_temperature'][i][2:-2].split(', '))))).shape[0] > 10:\n",
    "            temperature_day_0_inc[i,:] = np.array(list(map(float,list(decreasing_hurricanes['day_0_temperature'][i][2:-2].split(', ')))))[:-1]\n",
    "        else:\n",
    "            temperature_day_0_inc[i,:] = np.array(list(map(float,list(decreasing_hurricanes['day_0_temperature'][i][2:-2].split(', ')))))\n",
    "        \n",
    "        if np.array(list(map(float,list(decreasing_hurricanes['day_5_temperature'][i][2:-2].split(', '))))).shape[0] > 10:\n",
    "            temperature_day_plus5_inc[i,:] = np.array(list(map(float,list(decreasing_hurricanes['day_5_temperature'][i][2:-2].split(', ')))))[:-1]\n",
    "        else:\n",
    "            temperature_day_plus5_inc[i,:] = np.array(list(map(float,list(decreasing_hurricanes['day_5_temperature'][i][2:-2].split(', ')))))\n",
    "        \n",
    "        if np.array(list(map(float,list(decreasing_hurricanes['day_-5_salinity'][i][2:-2].split(', '))))).shape[0] > 10:\n",
    "            salinity_day_minus5_inc[i,:] = np.array(list(map(float,list(decreasing_hurricanes['day_-5_salinity'][i][2:-2].split(', ')))))[:-1]\n",
    "        else:\n",
    "            salinity_day_minus5_inc[i,:] = np.array(list(map(float,list(decreasing_hurricanes['day_-5_salinity'][i][2:-2].split(', ')))))\n",
    "        \n",
    "        if np.array(list(map(float,list(decreasing_hurricanes['day_0_salinity'][i][2:-2].split(', '))))).shape[0] > 10:\n",
    "            salinity_day_0_inc[i,:] = np.array(list(map(float,list(decreasing_hurricanes['day_0_salinity'][i][2:-2].split(', ')))))[:-1]\n",
    "        else:\n",
    "            salinity_day_0_inc[i,:] = np.array(list(map(float,list(decreasing_hurricanes['day_0_salinity'][i][2:-2].split(', ')))))            \n",
    "        \n",
    "        if np.array(list(map(float,list(decreasing_hurricanes['day_5_salinity'][i][2:-2].split(', '))))).shape[0] > 10:\n",
    "            salinity_day_plus5_inc[i,:] = np.array(list(map(float,list(decreasing_hurricanes['day_5_salinity'][i][2:-2].split(', ')))))[:-1]\n",
    "        else:\n",
    "            salinity_day_plus5_inc[i,:] = np.array(list(map(float,list(decreasing_hurricanes['day_5_salinity'][i][2:-2].split(', ')))))\n",
    "\n"
   ]
  },
  {
   "cell_type": "code",
   "execution_count": 89,
   "id": "e9d00a3b",
   "metadata": {},
   "outputs": [],
   "source": [
    "# Calculate deltas at a single depth level (here 10 m)\n",
    "z_hycom = [0., 10.,  20.,  30.,  50.,  75., 100., 125., 150., 200.]\n",
    "depth_sel = 1\n",
    "\n",
    "diff_s = salinity_day_plus5_inc[:,depth_sel] - salinity_day_minus5_inc[:,depth_sel]\n",
    "diff_t = temperature_day_plus5_inc[:,depth_sel] - temperature_day_minus5_inc[:,depth_sel]"
   ]
  },
  {
   "cell_type": "code",
   "execution_count": 90,
   "id": "c6f7c77f",
   "metadata": {},
   "outputs": [
    {
     "name": "stdout",
     "output_type": "stream",
     "text": [
      "Median = -0.7845973961276727\n",
      "Mean = -0.9911005754674257\n"
     ]
    },
    {
     "data": {
      "image/png": "[encoded data removed]",
      "text/plain": [
       "<Figure size 432x288 with 1 Axes>"
      ]
     },
     "metadata": {
      "needs_background": "light"
     },
     "output_type": "display_data"
    }
   ],
   "source": [
    "plt.figure(figsize = (6,4))\n",
    "plt.hist(diff_t, bins=np.arange(-1,1,.05))\n",
    "plt.vlines(x=0, ymin=0, ymax=40, colors='k')\n",
    "plt.title('Depth = 10 m', fontsize = 12)\n",
    "plt.xlabel('Temperature difference (deg)', fontsize = 12)\n",
    "plt.ylabel('Count', fontsize = 12)\n",
    "\n",
    "print(\"Median =\", np.nanmedian(diff_t))\n",
    "print(\"Mean =\", np.nanmean(diff_t))"
   ]
  },
  {
   "cell_type": "code",
   "execution_count": 91,
   "id": "167fb83d",
   "metadata": {},
   "outputs": [
    {
     "name": "stdout",
     "output_type": "stream",
     "text": [
      "Median = -0.009844304764065726\n",
      "Mean = 0.005572265455333431\n"
     ]
    },
    {
     "data": {
      "image/png": "[encoded data removed]",
      "text/plain": [
       "<Figure size 432x288 with 1 Axes>"
      ]
     },
     "metadata": {
      "needs_background": "light"
     },
     "output_type": "display_data"
    }
   ],
   "source": [
    "plt.figure(figsize = (6,4))\n",
    "plt.hist(diff_s, bins=np.arange(-1,1,.05))\n",
    "plt.vlines(x=0, ymin=0, ymax=100, colors='k')\n",
    "plt.title('Depth = 10 m', fontsize = 12)\n",
    "plt.xlabel('Salinity difference (psu)', fontsize = 12)\n",
    "plt.ylabel('Count', fontsize = 12)\n",
    "\n",
    "print(\"Median =\", np.nanmedian(diff_s))\n",
    "print(\"Mean =\", np.nanmean(diff_s))"
   ]
  },
  {
   "cell_type": "code",
   "execution_count": 96,
   "id": "cd5f1153",
   "metadata": {},
   "outputs": [
    {
     "data": {
      "text/plain": [
       "<matplotlib.legend.Legend at 0x7fdd1664b910>"
      ]
     },
     "execution_count": 96,
     "metadata": {},
     "output_type": "execute_result"
    },
    {
     "data": {
      "image/png": "[encoded data removed]",
      "text/plain": [
       "<Figure size 432x432 with 1 Axes>"
      ]
     },
     "metadata": {
      "needs_background": "light"
     },
     "output_type": "display_data"
    }
   ],
   "source": [
    "# Plot examples for single events\n",
    "event = 643\n",
    "\n",
    "plt.figure(figsize = (6,6))\n",
    "plt.plot(salinity_day_minus5_inc[event],z_hycom, label = 'Day -5')\n",
    "plt.plot(salinity_day_plus5_inc[event],z_hycom, label = 'Day 0')\n",
    "plt.plot(salinity_day_0_inc[event],z_hycom, label = 'Day +5')\n",
    "plt.xlabel('Salinity (psu)', fontsize = 12)\n",
    "plt.ylabel('Depth [m]', fontsize = 12)\n",
    "plt.gca().invert_yaxis()\n",
    "plt.legend(fontsize = 12)"
   ]
  },
  {
   "cell_type": "code",
   "execution_count": 97,
   "id": "c2896f6f",
   "metadata": {},
   "outputs": [
    {
     "data": {
      "text/plain": [
       "<matplotlib.legend.Legend at 0x7fdd17024160>"
      ]
     },
     "execution_count": 97,
     "metadata": {},
     "output_type": "execute_result"
    },
    {
     "data": {
      "image/png": "[encoded data removed]",
      "text/plain": [
       "<Figure size 432x432 with 1 Axes>"
      ]
     },
     "metadata": {
      "needs_background": "light"
     },
     "output_type": "display_data"
    }
   ],
   "source": [
    "# Plot examples for single events\n",
    "event = 643\n",
    "\n",
    "plt.figure(figsize = (6,6))\n",
    "plt.plot(temperature_day_minus5_inc[event],z_hycom, label = 'Day -5')\n",
    "plt.plot(temperature_day_plus5_inc[event],z_hycom, label = 'Day 0')\n",
    "plt.plot(temperature_day_0_inc[event],z_hycom, label = 'Day +5')\n",
    "plt.xlabel('Temperature (deg C)', fontsize = 12)\n",
    "plt.ylabel('Depth [m]', fontsize = 12)\n",
    "plt.gca().invert_yaxis()\n",
    "plt.legend(fontsize = 12)"
   ]
  },
  {
   "cell_type": "code",
   "execution_count": null,
   "id": "6b67633c",
   "metadata": {},
   "outputs": [],
   "source": []
  },
  {
   "cell_type": "code",
   "execution_count": null,
   "id": "3f3e6af1",
   "metadata": {},
   "outputs": [],
   "source": []
  },
  {
   "cell_type": "code",
   "execution_count": null,
   "id": "8e690e28",
   "metadata": {},
   "outputs": [],
   "source": []
  },
  {
   "cell_type": "code",
   "execution_count": null,
   "id": "c846bae2",
   "metadata": {},
   "outputs": [],
   "source": []
  },
  {
   "cell_type": "code",
   "execution_count": null,
   "id": "70c3e9e5",
   "metadata": {},
   "outputs": [],
   "source": []
  }
 ],
 "metadata": {
  "kernelspec": {
   "display_name": "Python (eccov4_py)",
   "language": "python",
   "name": "eccov4_py"
  },
  "language_info": {
   "codemirror_mode": {
    "name": "ipython",
    "version": 3
   },
   "file_extension": ".py",
   "mimetype": "text/x-python",
   "name": "python",
   "nbconvert_exporter": "python",
   "pygments_lexer": "ipython3",
   "version": "3.8.13"
  }
 },
 "nbformat": 4,
 "nbformat_minor": 5
}
